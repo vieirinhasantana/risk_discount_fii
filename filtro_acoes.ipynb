{
 "cells": [
  {
   "cell_type": "code",
   "execution_count": 1,
   "id": "697b7fb2-90ce-4410-b53d-be3232d70173",
   "metadata": {},
   "outputs": [],
   "source": [
    "from datetime import datetime #para trabalhar com datas\n",
    "import pandas as pd #para trabalhar com tabelas\n",
    "import yfinance as yf #para coletar dados financeiros\n",
    "import requests #para enviar e receber solicitações da internet\n",
    "from bs4 import BeautifulSoup #coletar dados de páginas web\n",
    "import matplotlib.pyplot as plt #para trabalhar com gráficos\n"
   ]
  },
  {
   "cell_type": "code",
   "execution_count": 2,
   "id": "ca03dfea-948b-4dbc-8c95-06a70b4287cf",
   "metadata": {},
   "outputs": [],
   "source": [
    "url = 'https://www.fundsexplorer.com.br/ranking'\n",
    "\n",
    "agent = {\"User-Agent\":\"Mozilla/5.0\"}\n",
    "response = requests.get(url, headers = agent)\n",
    "\n",
    "soup = BeautifulSoup(response.text, 'lxml')\n",
    "table = soup.find_all('table')[0]\n",
    "df = pd.read_html(str(table), decimal=',', thousands='.')[0]\n",
    "stocks_df = df"
   ]
  },
  {
   "cell_type": "code",
   "execution_count": 3,
   "id": "e72dc523",
   "metadata": {},
   "outputs": [
    {
     "data": {
      "text/plain": [
       "0      FIVN11.SA\n",
       "1      BZLI11.SA\n",
       "2      XTED11.SA\n",
       "3      ALMI11.SA\n",
       "4      PABY11.SA\n",
       "         ...    \n",
       "377    FLMA11.SA\n",
       "378    RECT11.SA\n",
       "379    MGFF11.SA\n",
       "380    BREV11.SA\n",
       "381    SCPF11.SA\n",
       "Name: Códigodo fundo, Length: 382, dtype: object"
      ]
     },
     "execution_count": 3,
     "metadata": {},
     "output_type": "execute_result"
    }
   ],
   "source": [
    "symbols = stocks_df['Códigodo fundo'] + '.SA'\n",
    "symbols"
   ]
  },
  {
   "cell_type": "code",
   "execution_count": 4,
   "id": "a202152d",
   "metadata": {},
   "outputs": [
    {
     "name": "stdout",
     "output_type": "stream",
     "text": [
      "\n",
      "1 Failed download:\n",
      "- HGRS11.SA: No data found, symbol may be delisted\n",
      "\n",
      "1 Failed download:\n",
      "- HGRS11.SA: No data found, symbol may be delisted\n",
      "\n",
      "1 Failed download:\n",
      "- HGRS11.SA: No data found, symbol may be delisted\n",
      "\n",
      "1 Failed download:\n",
      "- HGRS11.SA: No data found, symbol may be delisted\n",
      "\n",
      "1 Failed download:\n",
      "- HGRS11.SA: No data found, symbol may be delisted\n",
      "\n",
      "1 Failed download:\n",
      "- HGRS11.SA: No data found, symbol may be delisted\n",
      "\n",
      "1 Failed download:\n",
      "- HGRS11.SA: No data found, symbol may be delisted\n",
      "\n",
      "1 Failed download:\n",
      "- HGRS11.SA: No data found, symbol may be delisted\n",
      "\n",
      "1 Failed download:\n",
      "- HGRS11.SA: No data found, symbol may be delisted\n",
      "\n",
      "1 Failed download:\n",
      "- YUFI11B.SA: No data found, symbol may be delisted\n",
      "\n",
      "1 Failed download:\n",
      "- YUFI11B.SA: No data found, symbol may be delisted\n",
      "\n",
      "1 Failed download:\n",
      "- YUFI11B.SA: No data found, symbol may be delisted\n",
      "\n",
      "1 Failed download:\n",
      "- YUFI11B.SA: No data found, symbol may be delisted\n",
      "\n",
      "1 Failed download:\n",
      "- YUFI11B.SA: No data found, symbol may be delisted\n",
      "\n",
      "1 Failed download:\n",
      "- YUFI11B.SA: No data found, symbol may be delisted\n",
      "\n",
      "1 Failed download:\n",
      "- YUFI11B.SA: No data found, symbol may be delisted\n",
      "\n",
      "1 Failed download:\n",
      "- YUFI11B.SA: No data found, symbol may be delisted\n",
      "\n",
      "1 Failed download:\n",
      "- YUFI11B.SA: No data found, symbol may be delisted\n",
      "\n",
      "1 Failed download:\n",
      "- CORM11.SA: No data found, symbol may be delisted\n",
      "\n",
      "1 Failed download:\n",
      "- CORM11.SA: No data found, symbol may be delisted\n",
      "\n",
      "1 Failed download:\n",
      "- CORM11.SA: No data found, symbol may be delisted\n",
      "\n",
      "1 Failed download:\n",
      "- CORM11.SA: No data found, symbol may be delisted\n",
      "\n",
      "1 Failed download:\n",
      "- CORM11.SA: No data found, symbol may be delisted\n",
      "\n",
      "1 Failed download:\n",
      "- CORM11.SA: No data found, symbol may be delisted\n",
      "\n",
      "1 Failed download:\n",
      "- CORM11.SA: No data found, symbol may be delisted\n",
      "\n",
      "1 Failed download:\n",
      "- CORM11.SA: No data found, symbol may be delisted\n",
      "\n",
      "1 Failed download:\n",
      "- CORM11.SA: No data found, symbol may be delisted\n",
      "\n",
      "1 Failed download:\n",
      "- ERCR11.SA: No data found for this date range, symbol may be delisted\n",
      "\n",
      "1 Failed download:\n",
      "- ERCR11.SA: No data found for this date range, symbol may be delisted\n",
      "\n",
      "1 Failed download:\n",
      "- ERCR11.SA: No data found for this date range, symbol may be delisted\n",
      "\n",
      "1 Failed download:\n",
      "- ERCR11.SA: No data found for this date range, symbol may be delisted\n",
      "\n",
      "1 Failed download:\n",
      "- ERCR11.SA: No data found for this date range, symbol may be delisted\n",
      "\n",
      "1 Failed download:\n",
      "- ERCR11.SA: No data found for this date range, symbol may be delisted\n",
      "\n",
      "1 Failed download:\n",
      "- ERCR11.SA: No data found for this date range, symbol may be delisted\n",
      "\n",
      "1 Failed download:\n",
      "- ERCR11.SA: No data found for this date range, symbol may be delisted\n",
      "\n",
      "1 Failed download:\n",
      "- AFOF11.SA: No data found, symbol may be delisted\n",
      "\n",
      "1 Failed download:\n",
      "- ERCR11.SA: No data found for this date range, symbol may be delisted\n",
      "\n",
      "1 Failed download:\n",
      "- ERCR11.SA: No data found for this date range, symbol may be delisted\n",
      "\n",
      "1 Failed download:\n",
      "- ERCR11.SA: No data found for this date range, symbol may be delisted\n",
      "\n",
      "1 Failed download:\n",
      "- ERCR11.SA: No data found for this date range, symbol may be delisted\n",
      "\n",
      "1 Failed download:\n",
      "- ERCR11.SA: No data found for this date range, symbol may be delisted\n",
      "\n",
      "1 Failed download:\n",
      "- ERCR11.SA: No data found for this date range, symbol may be delisted\n",
      "\n",
      "1 Failed download:\n",
      "- ERCR11.SA: No data found for this date range, symbol may be delisted\n",
      "\n",
      "1 Failed download:\n",
      "- ERCR11.SA: No data found for this date range, symbol may be delisted\n",
      "\n",
      "1 Failed download:\n",
      "- BBIM11.SA: No data found for this date range, symbol may be delisted\n",
      "\n",
      "1 Failed download:\n",
      "- SPVJ11.SA: No data found, symbol may be delisted\n",
      "\n",
      "1 Failed download:\n",
      "- SPVJ11.SA: No data found, symbol may be delisted\n",
      "\n",
      "1 Failed download:\n",
      "- SPVJ11.SA: No data found, symbol may be delisted\n",
      "\n",
      "1 Failed download:\n",
      "- SPVJ11.SA: No data found, symbol may be delisted\n",
      "\n",
      "1 Failed download:\n",
      "- SPVJ11.SA: No data found, symbol may be delisted\n",
      "\n",
      "1 Failed download:\n",
      "- SPVJ11.SA: No data found, symbol may be delisted\n",
      "\n",
      "1 Failed download:\n",
      "- SPVJ11.SA: No data found, symbol may be delisted\n",
      "\n",
      "1 Failed download:\n",
      "- SPVJ11.SA: No data found, symbol may be delisted\n",
      "\n",
      "1 Failed download:\n",
      "- SPVJ11.SA: No data found, symbol may be delisted\n",
      "\n",
      "1 Failed download:\n",
      "- STRX11.SA: No data found, symbol may be delisted\n",
      "\n",
      "1 Failed download:\n",
      "- NVIF11B.SA: No data found, symbol may be delisted\n",
      "\n",
      "1 Failed download:\n",
      "- NVIF11B.SA: No data found, symbol may be delisted\n",
      "\n",
      "1 Failed download:\n",
      "- NVIF11B.SA: No data found, symbol may be delisted\n",
      "\n",
      "1 Failed download:\n",
      "- NVIF11B.SA: No data found, symbol may be delisted\n",
      "\n",
      "1 Failed download:\n",
      "- NVIF11B.SA: No data found, symbol may be delisted\n",
      "\n",
      "1 Failed download:\n",
      "- NVIF11B.SA: No data found, symbol may be delisted\n",
      "\n",
      "1 Failed download:\n",
      "- NVIF11B.SA: No data found, symbol may be delisted\n",
      "\n",
      "1 Failed download:\n",
      "- NVIF11B.SA: No data found, symbol may be delisted\n",
      "\n",
      "1 Failed download:\n",
      "- NVIF11B.SA: No data found, symbol may be delisted\n",
      "\n",
      "1 Failed download:\n",
      "- VJFD11.SA: No data found, symbol may be delisted\n",
      "\n",
      "1 Failed download:\n",
      "- VJFD11.SA: No data found, symbol may be delisted\n",
      "\n",
      "1 Failed download:\n",
      "- VJFD11.SA: No data found, symbol may be delisted\n",
      "\n",
      "1 Failed download:\n",
      "- VJFD11.SA: No data found, symbol may be delisted\n",
      "\n",
      "1 Failed download:\n",
      "- VJFD11.SA: No data found, symbol may be delisted\n",
      "\n",
      "1 Failed download:\n",
      "- VJFD11.SA: No data found, symbol may be delisted\n",
      "\n",
      "1 Failed download:\n",
      "- VJFD11.SA: No data found, symbol may be delisted\n",
      "\n",
      "1 Failed download:\n",
      "- VJFD11.SA: No data found, symbol may be delisted\n"
     ]
    }
   ],
   "source": [
    "start = datetime(2022, 1, 1) # 01 de janeiro de 2022\n",
    "end = datetime.today() #hoje\n",
    "\n",
    "def get_stocks(name):\n",
    "  stock = yf.download(name, start=start, end=end, progress=False)\n",
    "  return stock\n",
    "\n",
    "tickers = [tick for tick in symbols]\n",
    "\n",
    "stock_dict = {}\n",
    "black_list = [] \n",
    "\n",
    "for tick in tickers:\n",
    "    try:\n",
    "        stock_dict[tick] = get_stocks(tick)\n",
    "    except Exception:\n",
    "        black_list.append(tick)"
   ]
  },
  {
   "cell_type": "code",
   "execution_count": 5,
   "id": "84153a47-279e-4c0e-a8db-73d04d300667",
   "metadata": {},
   "outputs": [
    {
     "name": "stderr",
     "output_type": "stream",
     "text": [
      "C:\\Users\\DANIEL~1\\AppData\\Local\\Temp/ipykernel_3544/4009623488.py:7: RuntimeWarning: invalid value encountered in double_scalars\n",
      "  return (min_price - max_price) / max_price\n"
     ]
    }
   ],
   "source": [
    "discount_dict = {}\n",
    "\n",
    "def calculate_discount(df):\n",
    "    try:\n",
    "        max_price = df['Adj Close'].describe()['75%']\n",
    "        min_price = df['Adj Close'].min()\n",
    "        return (min_price - max_price) / max_price\n",
    "    except:\n",
    "        return 0\n",
    "    \n",
    "\n",
    "for tick in stock_dict.keys():\n",
    "    discount_dict[tick] = calculate_discount(stock_dict[tick])\n"
   ]
  },
  {
   "cell_type": "code",
   "execution_count": 6,
   "id": "16e87892-e4b3-4ae0-a039-c495a862bb8b",
   "metadata": {},
   "outputs": [
    {
     "name": "stderr",
     "output_type": "stream",
     "text": [
      "C:\\Users\\DANIEL~1\\AppData\\Local\\Temp/ipykernel_3544/3108704937.py:4: PerformanceWarning: DataFrame is highly fragmented.  This is usually the result of calling `frame.insert` many times, which has poor performance.  Consider joining all columns at once using pd.concat(axis=1) instead.  To get a de-fragmented frame, use `newframe = frame.copy()`\n",
      "  returns[key] = stock_dict[key]['Adj Close'].pct_change()\n"
     ]
    },
    {
     "data": {
      "text/html": [
       "<div>\n",
       "<style scoped>\n",
       "    .dataframe tbody tr th:only-of-type {\n",
       "        vertical-align: middle;\n",
       "    }\n",
       "\n",
       "    .dataframe tbody tr th {\n",
       "        vertical-align: top;\n",
       "    }\n",
       "\n",
       "    .dataframe thead th {\n",
       "        text-align: right;\n",
       "    }\n",
       "</style>\n",
       "<table border=\"1\" class=\"dataframe\">\n",
       "  <thead>\n",
       "    <tr style=\"text-align: right;\">\n",
       "      <th></th>\n",
       "      <th>FIVN11.SA</th>\n",
       "      <th>BZLI11.SA</th>\n",
       "      <th>XTED11.SA</th>\n",
       "      <th>ALMI11.SA</th>\n",
       "      <th>PABY11.SA</th>\n",
       "      <th>ORPD11.SA</th>\n",
       "      <th>GSFI11.SA</th>\n",
       "      <th>NEWU11.SA</th>\n",
       "      <th>PRSV11.SA</th>\n",
       "      <th>FAMB11B.SA</th>\n",
       "      <th>...</th>\n",
       "      <th>FISC11.SA</th>\n",
       "      <th>FATN11.SA</th>\n",
       "      <th>SNAG11.SA</th>\n",
       "      <th>JRDM11.SA</th>\n",
       "      <th>OIAG11.SA</th>\n",
       "      <th>FLMA11.SA</th>\n",
       "      <th>RECT11.SA</th>\n",
       "      <th>MGFF11.SA</th>\n",
       "      <th>BREV11.SA</th>\n",
       "      <th>SCPF11.SA</th>\n",
       "    </tr>\n",
       "    <tr>\n",
       "      <th>Date</th>\n",
       "      <th></th>\n",
       "      <th></th>\n",
       "      <th></th>\n",
       "      <th></th>\n",
       "      <th></th>\n",
       "      <th></th>\n",
       "      <th></th>\n",
       "      <th></th>\n",
       "      <th></th>\n",
       "      <th></th>\n",
       "      <th></th>\n",
       "      <th></th>\n",
       "      <th></th>\n",
       "      <th></th>\n",
       "      <th></th>\n",
       "      <th></th>\n",
       "      <th></th>\n",
       "      <th></th>\n",
       "      <th></th>\n",
       "      <th></th>\n",
       "      <th></th>\n",
       "    </tr>\n",
       "  </thead>\n",
       "  <tbody>\n",
       "    <tr>\n",
       "      <th>2022-01-03</th>\n",
       "      <td>NaN</td>\n",
       "      <td>NaN</td>\n",
       "      <td>NaN</td>\n",
       "      <td>NaN</td>\n",
       "      <td>NaN</td>\n",
       "      <td>NaN</td>\n",
       "      <td>NaN</td>\n",
       "      <td>NaN</td>\n",
       "      <td>NaN</td>\n",
       "      <td>NaN</td>\n",
       "      <td>...</td>\n",
       "      <td>NaN</td>\n",
       "      <td>NaN</td>\n",
       "      <td>NaN</td>\n",
       "      <td>NaN</td>\n",
       "      <td>NaN</td>\n",
       "      <td>NaN</td>\n",
       "      <td>NaN</td>\n",
       "      <td>NaN</td>\n",
       "      <td>NaN</td>\n",
       "      <td>NaN</td>\n",
       "    </tr>\n",
       "    <tr>\n",
       "      <th>2022-01-04</th>\n",
       "      <td>-0.088452</td>\n",
       "      <td>-0.005970</td>\n",
       "      <td>-0.019108</td>\n",
       "      <td>NaN</td>\n",
       "      <td>-0.015025</td>\n",
       "      <td>0.0</td>\n",
       "      <td>-0.004425</td>\n",
       "      <td>0.000000</td>\n",
       "      <td>-0.071545</td>\n",
       "      <td>-0.011886</td>\n",
       "      <td>...</td>\n",
       "      <td>0.0</td>\n",
       "      <td>NaN</td>\n",
       "      <td>NaN</td>\n",
       "      <td>NaN</td>\n",
       "      <td>NaN</td>\n",
       "      <td>-0.004098</td>\n",
       "      <td>-0.006257</td>\n",
       "      <td>-0.001644</td>\n",
       "      <td>0.000000</td>\n",
       "      <td>0.003793</td>\n",
       "    </tr>\n",
       "    <tr>\n",
       "      <th>2022-01-05</th>\n",
       "      <td>-0.132075</td>\n",
       "      <td>-0.009009</td>\n",
       "      <td>-0.004870</td>\n",
       "      <td>NaN</td>\n",
       "      <td>0.015254</td>\n",
       "      <td>0.0</td>\n",
       "      <td>0.015556</td>\n",
       "      <td>0.000000</td>\n",
       "      <td>-0.019264</td>\n",
       "      <td>0.009998</td>\n",
       "      <td>...</td>\n",
       "      <td>0.0</td>\n",
       "      <td>NaN</td>\n",
       "      <td>NaN</td>\n",
       "      <td>NaN</td>\n",
       "      <td>NaN</td>\n",
       "      <td>-0.011934</td>\n",
       "      <td>-0.009581</td>\n",
       "      <td>-0.031442</td>\n",
       "      <td>0.000000</td>\n",
       "      <td>0.018892</td>\n",
       "    </tr>\n",
       "    <tr>\n",
       "      <th>2022-01-06</th>\n",
       "      <td>-0.043478</td>\n",
       "      <td>0.009091</td>\n",
       "      <td>0.021207</td>\n",
       "      <td>NaN</td>\n",
       "      <td>-0.015025</td>\n",
       "      <td>0.0</td>\n",
       "      <td>-0.015317</td>\n",
       "      <td>0.000000</td>\n",
       "      <td>0.000000</td>\n",
       "      <td>0.000050</td>\n",
       "      <td>...</td>\n",
       "      <td>0.0</td>\n",
       "      <td>NaN</td>\n",
       "      <td>NaN</td>\n",
       "      <td>NaN</td>\n",
       "      <td>NaN</td>\n",
       "      <td>0.002666</td>\n",
       "      <td>0.003593</td>\n",
       "      <td>0.002782</td>\n",
       "      <td>0.000000</td>\n",
       "      <td>-0.002472</td>\n",
       "    </tr>\n",
       "    <tr>\n",
       "      <th>2022-01-07</th>\n",
       "      <td>-0.055195</td>\n",
       "      <td>0.000000</td>\n",
       "      <td>-0.025559</td>\n",
       "      <td>NaN</td>\n",
       "      <td>0.000000</td>\n",
       "      <td>0.0</td>\n",
       "      <td>-0.004444</td>\n",
       "      <td>-0.000882</td>\n",
       "      <td>0.000000</td>\n",
       "      <td>0.002462</td>\n",
       "      <td>...</td>\n",
       "      <td>0.0</td>\n",
       "      <td>NaN</td>\n",
       "      <td>NaN</td>\n",
       "      <td>NaN</td>\n",
       "      <td>NaN</td>\n",
       "      <td>-0.003074</td>\n",
       "      <td>-0.006472</td>\n",
       "      <td>0.009712</td>\n",
       "      <td>-0.005651</td>\n",
       "      <td>-0.008674</td>\n",
       "    </tr>\n",
       "  </tbody>\n",
       "</table>\n",
       "<p>5 rows × 297 columns</p>\n",
       "</div>"
      ],
      "text/plain": [
       "            FIVN11.SA  BZLI11.SA  XTED11.SA  ALMI11.SA  PABY11.SA  ORPD11.SA  \\\n",
       "Date                                                                           \n",
       "2022-01-03        NaN        NaN        NaN        NaN        NaN        NaN   \n",
       "2022-01-04  -0.088452  -0.005970  -0.019108        NaN  -0.015025        0.0   \n",
       "2022-01-05  -0.132075  -0.009009  -0.004870        NaN   0.015254        0.0   \n",
       "2022-01-06  -0.043478   0.009091   0.021207        NaN  -0.015025        0.0   \n",
       "2022-01-07  -0.055195   0.000000  -0.025559        NaN   0.000000        0.0   \n",
       "\n",
       "            GSFI11.SA  NEWU11.SA  PRSV11.SA  FAMB11B.SA  ...  FISC11.SA  \\\n",
       "Date                                                     ...              \n",
       "2022-01-03        NaN        NaN        NaN         NaN  ...        NaN   \n",
       "2022-01-04  -0.004425   0.000000  -0.071545   -0.011886  ...        0.0   \n",
       "2022-01-05   0.015556   0.000000  -0.019264    0.009998  ...        0.0   \n",
       "2022-01-06  -0.015317   0.000000   0.000000    0.000050  ...        0.0   \n",
       "2022-01-07  -0.004444  -0.000882   0.000000    0.002462  ...        0.0   \n",
       "\n",
       "            FATN11.SA  SNAG11.SA  JRDM11.SA  OIAG11.SA  FLMA11.SA  RECT11.SA  \\\n",
       "Date                                                                           \n",
       "2022-01-03        NaN        NaN        NaN        NaN        NaN        NaN   \n",
       "2022-01-04        NaN        NaN        NaN        NaN  -0.004098  -0.006257   \n",
       "2022-01-05        NaN        NaN        NaN        NaN  -0.011934  -0.009581   \n",
       "2022-01-06        NaN        NaN        NaN        NaN   0.002666   0.003593   \n",
       "2022-01-07        NaN        NaN        NaN        NaN  -0.003074  -0.006472   \n",
       "\n",
       "            MGFF11.SA  BREV11.SA  SCPF11.SA  \n",
       "Date                                         \n",
       "2022-01-03        NaN        NaN        NaN  \n",
       "2022-01-04  -0.001644   0.000000   0.003793  \n",
       "2022-01-05  -0.031442   0.000000   0.018892  \n",
       "2022-01-06   0.002782   0.000000  -0.002472  \n",
       "2022-01-07   0.009712  -0.005651  -0.008674  \n",
       "\n",
       "[5 rows x 297 columns]"
      ]
     },
     "execution_count": 6,
     "metadata": {},
     "output_type": "execute_result"
    }
   ],
   "source": [
    "returns = pd.DataFrame()\n",
    "\n",
    "for key in stock_dict.keys():\n",
    "    returns[key] = stock_dict[key]['Adj Close'].pct_change()\n",
    "    \n",
    "returns.head()"
   ]
  },
  {
   "cell_type": "code",
   "execution_count": 7,
   "id": "ac6790ea-204e-4232-8424-dd924ef8c486",
   "metadata": {},
   "outputs": [
    {
     "data": {
      "text/html": [
       "<div>\n",
       "<style scoped>\n",
       "    .dataframe tbody tr th:only-of-type {\n",
       "        vertical-align: middle;\n",
       "    }\n",
       "\n",
       "    .dataframe tbody tr th {\n",
       "        vertical-align: top;\n",
       "    }\n",
       "\n",
       "    .dataframe thead th {\n",
       "        text-align: right;\n",
       "    }\n",
       "</style>\n",
       "<table border=\"1\" class=\"dataframe\">\n",
       "  <thead>\n",
       "    <tr style=\"text-align: right;\">\n",
       "      <th></th>\n",
       "      <th>ticker</th>\n",
       "      <th>discount</th>\n",
       "      <th>sector</th>\n",
       "    </tr>\n",
       "  </thead>\n",
       "  <tbody>\n",
       "    <tr>\n",
       "      <th>0</th>\n",
       "      <td>FIVN11.SA</td>\n",
       "      <td>-0.369085</td>\n",
       "      <td>Shoppings</td>\n",
       "    </tr>\n",
       "    <tr>\n",
       "      <th>1</th>\n",
       "      <td>BZLI11.SA</td>\n",
       "      <td>-0.105294</td>\n",
       "      <td>Títulos e Val. Mob.</td>\n",
       "    </tr>\n",
       "    <tr>\n",
       "      <th>2</th>\n",
       "      <td>XTED11.SA</td>\n",
       "      <td>-0.151862</td>\n",
       "      <td>Lajes Corporativas</td>\n",
       "    </tr>\n",
       "    <tr>\n",
       "      <th>3</th>\n",
       "      <td>ALMI11.SA</td>\n",
       "      <td>0.000000</td>\n",
       "      <td>Lajes Corporativas</td>\n",
       "    </tr>\n",
       "    <tr>\n",
       "      <th>4</th>\n",
       "      <td>PABY11.SA</td>\n",
       "      <td>-0.305057</td>\n",
       "      <td>Híbrido</td>\n",
       "    </tr>\n",
       "    <tr>\n",
       "      <th>...</th>\n",
       "      <td>...</td>\n",
       "      <td>...</td>\n",
       "      <td>...</td>\n",
       "    </tr>\n",
       "    <tr>\n",
       "      <th>292</th>\n",
       "      <td>FLMA11.SA</td>\n",
       "      <td>-0.142881</td>\n",
       "      <td>Híbrido</td>\n",
       "    </tr>\n",
       "    <tr>\n",
       "      <th>293</th>\n",
       "      <td>RECT11.SA</td>\n",
       "      <td>-0.126826</td>\n",
       "      <td>Híbrido</td>\n",
       "    </tr>\n",
       "    <tr>\n",
       "      <th>294</th>\n",
       "      <td>MGFF11.SA</td>\n",
       "      <td>-0.107165</td>\n",
       "      <td>Títulos e Val. Mob.</td>\n",
       "    </tr>\n",
       "    <tr>\n",
       "      <th>295</th>\n",
       "      <td>BREV11.SA</td>\n",
       "      <td>-0.220116</td>\n",
       "      <td>Híbrido</td>\n",
       "    </tr>\n",
       "    <tr>\n",
       "      <th>296</th>\n",
       "      <td>SCPF11.SA</td>\n",
       "      <td>-0.345426</td>\n",
       "      <td>Shoppings</td>\n",
       "    </tr>\n",
       "  </tbody>\n",
       "</table>\n",
       "<p>297 rows × 3 columns</p>\n",
       "</div>"
      ],
      "text/plain": [
       "        ticker  discount               sector\n",
       "0    FIVN11.SA -0.369085            Shoppings\n",
       "1    BZLI11.SA -0.105294  Títulos e Val. Mob.\n",
       "2    XTED11.SA -0.151862   Lajes Corporativas\n",
       "3    ALMI11.SA  0.000000   Lajes Corporativas\n",
       "4    PABY11.SA -0.305057              Híbrido\n",
       "..         ...       ...                  ...\n",
       "292  FLMA11.SA -0.142881              Híbrido\n",
       "293  RECT11.SA -0.126826              Híbrido\n",
       "294  MGFF11.SA -0.107165  Títulos e Val. Mob.\n",
       "295  BREV11.SA -0.220116              Híbrido\n",
       "296  SCPF11.SA -0.345426            Shoppings\n",
       "\n",
       "[297 rows x 3 columns]"
      ]
     },
     "execution_count": 7,
     "metadata": {},
     "output_type": "execute_result"
    }
   ],
   "source": [
    "def get_sector(stock):\n",
    "    return [x for x in stocks_df[symbols == stock]['Setor']]\n",
    "\n",
    "stock_info_df = pd.DataFrame.from_dict(discount_dict, orient='index').reset_index()\n",
    "stock_info_df.columns = ['ticker', 'discount']\n",
    "stock_info_df['sector'] = [get_sector(tick)[0] for tick in stock_info_df['ticker']]\n",
    "\n",
    "stock_info_df"
   ]
  },
  {
   "cell_type": "code",
   "execution_count": 8,
   "id": "ebf6d89b-a62a-4f79-b849-6a14b2e93ecd",
   "metadata": {},
   "outputs": [
    {
     "data": {
      "text/html": [
       "<div>\n",
       "<style scoped>\n",
       "    .dataframe tbody tr th:only-of-type {\n",
       "        vertical-align: middle;\n",
       "    }\n",
       "\n",
       "    .dataframe tbody tr th {\n",
       "        vertical-align: top;\n",
       "    }\n",
       "\n",
       "    .dataframe thead th {\n",
       "        text-align: right;\n",
       "    }\n",
       "</style>\n",
       "<table border=\"1\" class=\"dataframe\">\n",
       "  <thead>\n",
       "    <tr style=\"text-align: right;\">\n",
       "      <th></th>\n",
       "      <th>ticker</th>\n",
       "      <th>discount</th>\n",
       "      <th>sector</th>\n",
       "      <th>risk</th>\n",
       "    </tr>\n",
       "  </thead>\n",
       "  <tbody>\n",
       "    <tr>\n",
       "      <th>0</th>\n",
       "      <td>FIVN11.SA</td>\n",
       "      <td>-0.369085</td>\n",
       "      <td>Shoppings</td>\n",
       "      <td>0.038421</td>\n",
       "    </tr>\n",
       "    <tr>\n",
       "      <th>1</th>\n",
       "      <td>BZLI11.SA</td>\n",
       "      <td>-0.105294</td>\n",
       "      <td>Títulos e Val. Mob.</td>\n",
       "      <td>0.016464</td>\n",
       "    </tr>\n",
       "    <tr>\n",
       "      <th>2</th>\n",
       "      <td>XTED11.SA</td>\n",
       "      <td>-0.151862</td>\n",
       "      <td>Lajes Corporativas</td>\n",
       "      <td>0.021474</td>\n",
       "    </tr>\n",
       "    <tr>\n",
       "      <th>3</th>\n",
       "      <td>ALMI11.SA</td>\n",
       "      <td>0.000000</td>\n",
       "      <td>Lajes Corporativas</td>\n",
       "      <td>NaN</td>\n",
       "    </tr>\n",
       "    <tr>\n",
       "      <th>4</th>\n",
       "      <td>PABY11.SA</td>\n",
       "      <td>-0.305057</td>\n",
       "      <td>Híbrido</td>\n",
       "      <td>0.105373</td>\n",
       "    </tr>\n",
       "    <tr>\n",
       "      <th>...</th>\n",
       "      <td>...</td>\n",
       "      <td>...</td>\n",
       "      <td>...</td>\n",
       "      <td>...</td>\n",
       "    </tr>\n",
       "    <tr>\n",
       "      <th>292</th>\n",
       "      <td>FLMA11.SA</td>\n",
       "      <td>-0.142881</td>\n",
       "      <td>Híbrido</td>\n",
       "      <td>0.011458</td>\n",
       "    </tr>\n",
       "    <tr>\n",
       "      <th>293</th>\n",
       "      <td>RECT11.SA</td>\n",
       "      <td>-0.126826</td>\n",
       "      <td>Híbrido</td>\n",
       "      <td>0.009478</td>\n",
       "    </tr>\n",
       "    <tr>\n",
       "      <th>294</th>\n",
       "      <td>MGFF11.SA</td>\n",
       "      <td>-0.107165</td>\n",
       "      <td>Títulos e Val. Mob.</td>\n",
       "      <td>0.010067</td>\n",
       "    </tr>\n",
       "    <tr>\n",
       "      <th>295</th>\n",
       "      <td>BREV11.SA</td>\n",
       "      <td>-0.220116</td>\n",
       "      <td>Híbrido</td>\n",
       "      <td>0.021713</td>\n",
       "    </tr>\n",
       "    <tr>\n",
       "      <th>296</th>\n",
       "      <td>SCPF11.SA</td>\n",
       "      <td>-0.345426</td>\n",
       "      <td>Shoppings</td>\n",
       "      <td>0.029901</td>\n",
       "    </tr>\n",
       "  </tbody>\n",
       "</table>\n",
       "<p>297 rows × 4 columns</p>\n",
       "</div>"
      ],
      "text/plain": [
       "        ticker  discount               sector      risk\n",
       "0    FIVN11.SA -0.369085            Shoppings  0.038421\n",
       "1    BZLI11.SA -0.105294  Títulos e Val. Mob.  0.016464\n",
       "2    XTED11.SA -0.151862   Lajes Corporativas  0.021474\n",
       "3    ALMI11.SA  0.000000   Lajes Corporativas       NaN\n",
       "4    PABY11.SA -0.305057              Híbrido  0.105373\n",
       "..         ...       ...                  ...       ...\n",
       "292  FLMA11.SA -0.142881              Híbrido  0.011458\n",
       "293  RECT11.SA -0.126826              Híbrido  0.009478\n",
       "294  MGFF11.SA -0.107165  Títulos e Val. Mob.  0.010067\n",
       "295  BREV11.SA -0.220116              Híbrido  0.021713\n",
       "296  SCPF11.SA -0.345426            Shoppings  0.029901\n",
       "\n",
       "[297 rows x 4 columns]"
      ]
     },
     "execution_count": 8,
     "metadata": {},
     "output_type": "execute_result"
    }
   ],
   "source": [
    "def get_stockname(ticker):\n",
    "    return [x for x in stocks_df[stocks_df['Códigodo fundo'] == ticker]['Códigodo fundo']][0]\n",
    "\n",
    "std_list = []\n",
    "\n",
    "for tick in stock_info_df['ticker']:\n",
    "    std_list.append(returns[tick].std()) # risk metric\n",
    "    \n",
    "stock_info_df['risk'] = std_list\n",
    "    \n",
    "stock_info_df"
   ]
  },
  {
   "cell_type": "code",
   "execution_count": 23,
   "id": "03ddd071-b36a-4138-9611-5f780e907d87",
   "metadata": {},
   "outputs": [
    {
     "data": {
      "text/html": [
       "<div>\n",
       "<style scoped>\n",
       "    .dataframe tbody tr th:only-of-type {\n",
       "        vertical-align: middle;\n",
       "    }\n",
       "\n",
       "    .dataframe tbody tr th {\n",
       "        vertical-align: top;\n",
       "    }\n",
       "\n",
       "    .dataframe thead th {\n",
       "        text-align: right;\n",
       "    }\n",
       "</style>\n",
       "<table border=\"1\" class=\"dataframe\">\n",
       "  <thead>\n",
       "    <tr style=\"text-align: right;\">\n",
       "      <th></th>\n",
       "      <th>ticker</th>\n",
       "      <th>discount</th>\n",
       "      <th>sector</th>\n",
       "      <th>risk</th>\n",
       "      <th>current_price</th>\n",
       "    </tr>\n",
       "  </thead>\n",
       "  <tbody>\n",
       "    <tr>\n",
       "      <th>0</th>\n",
       "      <td>FIVN11.SA</td>\n",
       "      <td>-0.369085</td>\n",
       "      <td>Shoppings</td>\n",
       "      <td>0.038421</td>\n",
       "      <td>4.070000</td>\n",
       "    </tr>\n",
       "    <tr>\n",
       "      <th>1</th>\n",
       "      <td>BZLI11.SA</td>\n",
       "      <td>-0.105294</td>\n",
       "      <td>Títulos e Val. Mob.</td>\n",
       "      <td>0.016464</td>\n",
       "      <td>16.750000</td>\n",
       "    </tr>\n",
       "    <tr>\n",
       "      <th>2</th>\n",
       "      <td>XTED11.SA</td>\n",
       "      <td>-0.151862</td>\n",
       "      <td>Lajes Corporativas</td>\n",
       "      <td>0.021474</td>\n",
       "      <td>6.280000</td>\n",
       "    </tr>\n",
       "    <tr>\n",
       "      <th>4</th>\n",
       "      <td>PABY11.SA</td>\n",
       "      <td>-0.305057</td>\n",
       "      <td>Híbrido</td>\n",
       "      <td>0.105373</td>\n",
       "      <td>11.980000</td>\n",
       "    </tr>\n",
       "    <tr>\n",
       "      <th>5</th>\n",
       "      <td>ORPD11.SA</td>\n",
       "      <td>-0.277894</td>\n",
       "      <td>Títulos e Val. Mob.</td>\n",
       "      <td>0.015267</td>\n",
       "      <td>129.720001</td>\n",
       "    </tr>\n",
       "    <tr>\n",
       "      <th>...</th>\n",
       "      <td>...</td>\n",
       "      <td>...</td>\n",
       "      <td>...</td>\n",
       "      <td>...</td>\n",
       "      <td>...</td>\n",
       "    </tr>\n",
       "    <tr>\n",
       "      <th>292</th>\n",
       "      <td>FLMA11.SA</td>\n",
       "      <td>-0.142881</td>\n",
       "      <td>Híbrido</td>\n",
       "      <td>0.011458</td>\n",
       "      <td>114.439865</td>\n",
       "    </tr>\n",
       "    <tr>\n",
       "      <th>293</th>\n",
       "      <td>RECT11.SA</td>\n",
       "      <td>-0.126826</td>\n",
       "      <td>Híbrido</td>\n",
       "      <td>0.009478</td>\n",
       "      <td>69.381981</td>\n",
       "    </tr>\n",
       "    <tr>\n",
       "      <th>294</th>\n",
       "      <td>MGFF11.SA</td>\n",
       "      <td>-0.107165</td>\n",
       "      <td>Títulos e Val. Mob.</td>\n",
       "      <td>0.010067</td>\n",
       "      <td>62.272602</td>\n",
       "    </tr>\n",
       "    <tr>\n",
       "      <th>295</th>\n",
       "      <td>BREV11.SA</td>\n",
       "      <td>-0.220116</td>\n",
       "      <td>Híbrido</td>\n",
       "      <td>0.021713</td>\n",
       "      <td>90.356956</td>\n",
       "    </tr>\n",
       "    <tr>\n",
       "      <th>296</th>\n",
       "      <td>SCPF11.SA</td>\n",
       "      <td>-0.345426</td>\n",
       "      <td>Shoppings</td>\n",
       "      <td>0.029901</td>\n",
       "      <td>7.726679</td>\n",
       "    </tr>\n",
       "  </tbody>\n",
       "</table>\n",
       "<p>174 rows × 5 columns</p>\n",
       "</div>"
      ],
      "text/plain": [
       "        ticker  discount               sector      risk  current_price\n",
       "0    FIVN11.SA -0.369085            Shoppings  0.038421       4.070000\n",
       "1    BZLI11.SA -0.105294  Títulos e Val. Mob.  0.016464      16.750000\n",
       "2    XTED11.SA -0.151862   Lajes Corporativas  0.021474       6.280000\n",
       "4    PABY11.SA -0.305057              Híbrido  0.105373      11.980000\n",
       "5    ORPD11.SA -0.277894  Títulos e Val. Mob.  0.015267     129.720001\n",
       "..         ...       ...                  ...       ...            ...\n",
       "292  FLMA11.SA -0.142881              Híbrido  0.011458     114.439865\n",
       "293  RECT11.SA -0.126826              Híbrido  0.009478      69.381981\n",
       "294  MGFF11.SA -0.107165  Títulos e Val. Mob.  0.010067      62.272602\n",
       "295  BREV11.SA -0.220116              Híbrido  0.021713      90.356956\n",
       "296  SCPF11.SA -0.345426            Shoppings  0.029901       7.726679\n",
       "\n",
       "[174 rows x 5 columns]"
      ]
     },
     "execution_count": 23,
     "metadata": {},
     "output_type": "execute_result"
    }
   ],
   "source": [
    "def get_price_current(ticker):\n",
    "    return stock_dict[str(ticker)]['Adj Close'][0]\n",
    "\n",
    "stock_info_df['current_price'] = stock_info_df.apply(lambda x: get_price_current(ticker=x['ticker']), axis=1)\n",
    "stock_info_df"
   ]
  },
  {
   "cell_type": "code",
   "execution_count": 24,
   "id": "3bb5979d-4a73-4719-9cbc-5ff0dde7faa1",
   "metadata": {},
   "outputs": [
    {
     "data": {
      "application/vnd.plotly.v1+json": {
       "config": {
        "plotlyServerURL": "https://plot.ly"
       },
       "data": [
        {
         "hovertemplate": "<b>%{hovertext}</b><br><br>sector=Shoppings<br>risk=%{x}<br>discount=%{y}<br>current_price=%{marker.size}<extra></extra>",
         "hovertext": [
          "FIVN11.SA",
          "GSFI11.SA",
          "RBGS11.SA",
          "BPML11.SA",
          "XPML11.SA",
          "HSML11.SA",
          "PQDP11.SA",
          "MALL11.SA",
          "SHPH11.SA",
          "HPDP11.SA",
          "VSHO11.SA",
          "VISC11.SA",
          "ABCP11.SA",
          "HGBS11.SA",
          "FIGS11.SA",
          "FVPQ11.SA",
          "SCPF11.SA"
         ],
         "legendgroup": "Shoppings",
         "marker": {
          "color": "#636efa",
          "size": [
           4.070000171661377,
           4.519999980926514,
           28.450000762939453,
           72.04759979248047,
           91.46257781982422,
           75.01742553710938,
           1981.0662841796875,
           91.12655639648438,
           766.0966186523438,
           74.60466766357422,
           76.448486328125,
           96.28363800048828,
           64.84054565429688,
           181.27816772460938,
           51.7110595703125,
           101.24720764160156,
           7.72667932510376
          ],
          "sizemode": "area",
          "sizeref": 5.21302978515625,
          "symbol": "circle"
         },
         "mode": "markers",
         "name": "Shoppings",
         "orientation": "v",
         "showlegend": true,
         "type": "scatter",
         "x": [
          0.038420824690525726,
          0.011574358587559707,
          0,
          0.01702527739789466,
          0.010923358931801014,
          0.009215351943227361,
          0.015165845330828423,
          0.006963650131009262,
          0.06709851053911194,
          0.026331394747645794,
          0.010047005162049859,
          0.008476135572690217,
          0.011858955448544662,
          0.010500929548162681,
          0.011845189803400592,
          0.013076992925349376,
          0.029900878669361735
         ],
         "xaxis": "x",
         "y": [
          -0.3690851886861136,
          -0.07268720847551799,
          0,
          -0.14818755298508454,
          -0.1616330935826345,
          -0.1958347513631348,
          -0.1490573849615556,
          -0.154215715554012,
          -0.4758488314453314,
          -0.09774625647124607,
          -0.08706265093366984,
          -0.1341913363445939,
          -0.10725764718023802,
          -0.21476923674122653,
          -0.1477250631455434,
          -0.151308528856477,
          -0.34542630903801164
         ],
         "yaxis": "y"
        },
        {
         "hovertemplate": "<b>%{hovertext}</b><br><br>sector=Títulos e Val. Mob.<br>risk=%{x}<br>discount=%{y}<br>current_price=%{marker.size}<extra></extra>",
         "hovertext": [
          "BZLI11.SA",
          "ORPD11.SA",
          "IBFF11.SA",
          "CVBI11.SA",
          "RECR11.SA",
          "BTCR11.SA",
          "RVBI11.SA",
          "IRDM11.SA",
          "RBRR11.SA",
          "RBRF11.SA",
          "RBRY11.SA",
          "VGIR11.SA",
          "MCCI11.SA",
          "SNCI11.SA",
          "GCFF11.SA",
          "MORE11.SA",
          "GCRI11.SA",
          "NAVT11.SA",
          "MGCR11.SA",
          "OURE11.SA",
          "OUFF11.SA",
          "MATV11.SA",
          "PORD11.SA",
          "BARI11.SA",
          "SADI11.SA",
          "VOTS11.SA",
          "BPFF11.SA",
          "KNIP11.SA",
          "KNCR11.SA",
          "OUJP11.SA",
          "KFOF11.SA",
          "BCIA11.SA",
          "KNSC11.SA",
          "RBFF11.SA",
          "VCJR11.SA",
          "RNDP11.SA",
          "PLRI11.SA",
          "BCRI11.SA",
          "HABT11.SA",
          "ARRI11.SA",
          "RDPD11.SA",
          "VRTA11.SA",
          "HFOF11.SA",
          "KNHY11.SA",
          "JPPA11.SA",
          "BICR11.SA",
          "ITIT11.SA",
          "HGCR11.SA",
          "VIFI11.SA",
          "HGFF11.SA",
          "RFOF11.SA",
          "CRFF11.SA",
          "MGFF11.SA"
         ],
         "legendgroup": "Títulos e Val. Mob.",
         "marker": {
          "color": "#EF553B",
          "size": [
           16.75,
           129.72000122070312,
           7.70669412612915,
           92.79883575439453,
           92.83875274658203,
           81.70923614501953,
           76.80636596679688,
           97.65090942382812,
           91.86066436767578,
           69.40869903564453,
           93.6910171508789,
           7.881495475769043,
           92.17415618896484,
           94.81712341308594,
           66.6703109741211,
           67.59388732910156,
           86.9782943725586,
           65.98487091064453,
           77.8149185180664,
           74.1991958618164,
           65.37311553955078,
           89.82501983642578,
           83.7314682006836,
           92.42819213867188,
           81.30010223388672,
           76.10016632080078,
           61.46961975097656,
           94.67488098144531,
           93.02141571044922,
           78.28882598876953,
           72.73698425292969,
           78.71507263183594,
           87.58393096923828,
           52.21156692504883,
           89.07707977294922,
           113.93143463134766,
           32.079063415527344,
           97.32369995117188,
           96.89496612548828,
           8.561792373657227,
           24.358238220214844,
           96.00749969482422,
           75.77991485595703,
           99.10739135742188,
           85.32976531982422,
           88.2115249633789,
           66.32306671142578,
           95.556396484375,
           69.78459930419922,
           68.80372619628906,
           67.98576354980469,
           62.856327056884766,
           62.27260208129883
          ],
          "sizemode": "area",
          "sizeref": 5.21302978515625,
          "symbol": "circle"
         },
         "mode": "markers",
         "name": "Títulos e Val. Mob.",
         "orientation": "v",
         "showlegend": true,
         "type": "scatter",
         "x": [
          0.016464311281873287,
          0.015267264877151725,
          0.31594141932451747,
          0.008138549162549096,
          0.0071796560438646155,
          0.00811130444082148,
          0.010086502730608153,
          0.007593684953649672,
          0.008294666474686288,
          0.010434219142217796,
          0.006790784589003255,
          0.010641930198767332,
          0.00521990195021141,
          0.006801158511415644,
          0.007469309707124355,
          0.008156145664856179,
          0.0036269162079970467,
          0.01753424725026269,
          0.006378327672688601,
          0.007027202536024483,
          0.00889532856430507,
          0.01332765045304219,
          0.006406615355358595,
          0.0059374032648546095,
          0.0046279349929888485,
          0.019716722859811606,
          0.009962804451758714,
          0.005604046094382515,
          0.004190318917835261,
          0.008010278362162289,
          0.011603431961093076,
          0.008034417651780165,
          0.006128896526427776,
          0.011897728742810082,
          0.00927824069418952,
          0.08487834194329225,
          0.03953406575840804,
          0.006808684032201952,
          0.00745033781143433,
          0.007554747869935396,
          0.02497558758053982,
          0.006715555617332518,
          6.463301424132976,
          0.007111699938086687,
          0.005875752880479505,
          0.030309100346595473,
          0.008303524343870326,
          0.006404184647206411,
          0.059862192929533126,
          0.011317559709760163,
          0.01145544575823328,
          0.016422391307655836,
          0.0100667385780353
         ],
         "xaxis": "x",
         "y": [
          -0.10529411540311925,
          -0.2778942088040812,
          -0.8582894565081126,
          -0.06153467010010514,
          -0.09773841968892674,
          -0.10892626035082026,
          -0.0879220758605085,
          -0.0696608527635641,
          -0.09754016538881774,
          -0.11908004014966639,
          -0.0572078449865397,
          -0.19657721275479786,
          -0.051602279146847785,
          -0.06139190024615627,
          -0.08790073422755652,
          -0.13753555661723255,
          -0.06355364884571309,
          -0.14040486988273543,
          -0.1011127691631925,
          -0.12077942241084573,
          -0.11524280558728354,
          -0.08221025692561966,
          -0.12521737166092506,
          -0.04117571276450088,
          -0.11094734205298538,
          -0.15144832650338214,
          -0.13495613444594862,
          -0.05625289022494942,
          -0.08353472894113842,
          -0.1583062791089701,
          -0.18152827847053957,
          -0.1126628982037253,
          -0.05691500219013929,
          -0.1548223305947549,
          -0.07325771561180407,
          -0.23491319686636156,
          -0.32546634245861,
          -0.05091339111801055,
          -0.09846713064613258,
          -0.07187974702395727,
          -0.1173454073778115,
          -0.060423733385050686,
          -0.12475521677092255,
          -0.05129910622148114,
          -0.17099485924699193,
          -0.21149873314728698,
          -0.16458663859845607,
          -0.06495562655388142,
          -0.9024409068509175,
          -0.17438502867797764,
          -0.12741236169351774,
          -0.16318214310721793,
          -0.10716467802275029
         ],
         "yaxis": "y"
        },
        {
         "hovertemplate": "<b>%{hovertext}</b><br><br>sector=Lajes Corporativas<br>risk=%{x}<br>discount=%{y}<br>current_price=%{marker.size}<extra></extra>",
         "hovertext": [
          "XTED11.SA",
          "NEWU11.SA",
          "PRSV11.SA",
          "FAMB11B.SA",
          "FMOF11.SA",
          "CTXT11.SA",
          "RBCO11.SA",
          "RCRB11.SA",
          "ONEF11.SA",
          "DRIT11B.SA",
          "BMLC11.SA",
          "CEOC11.SA",
          "BLCA11.SA",
          "RNGO11.SA",
          "EDFO11B.SA",
          "SPTW11.SA",
          "VLOL11.SA",
          "VINO11.SA",
          "BBPO11.SA",
          "TEPP11.SA",
          "PATC11.SA",
          "FPAB11.SA",
          "GTWR11.SA",
          "HGPO11.SA",
          "HGRE11.SA",
          "XPCM11.SA",
          "BBFI11B.SA",
          "CBOP11.SA",
          "AIEC11.SA",
          "FISC11.SA"
         ],
         "legendgroup": "Lajes Corporativas",
         "marker": {
          "color": "#00cc96",
          "size": [
           6.28000020980835,
           33.9327392578125,
           123,
           997,
           67.04827880859375,
           18,
           53.00614547729492,
           131.1344757080078,
           130.98207092285156,
           77.82234954833984,
           90.1086654663086,
           55.300174713134766,
           96.19731140136719,
           47.868412017822266,
           228.76214599609375,
           40.293434143066406,
           90.65461730957031,
           52.53424835205078,
           83.91593933105469,
           70.45545959472656,
           55.51353073120117,
           195.84426879882812,
           82.65608215332031,
           224.15841674804688,
           127.05477905273438,
           18.54436683654785,
           2085.2119140625,
           55.70224380493164,
           71.24012756347656,
           164.2810516357422
          ],
          "sizemode": "area",
          "sizeref": 5.21302978515625,
          "symbol": "circle"
         },
         "mode": "markers",
         "name": "Lajes Corporativas",
         "orientation": "v",
         "showlegend": true,
         "type": "scatter",
         "x": [
          0.021473582398073322,
          0.04571068162674448,
          0.017697082065209868,
          0.028655202590412453,
          0.0164740500720322,
          0.03337421665321822,
          0.01572505084185517,
          0.016878477745252946,
          0.009293242206277818,
          0.039235408908429824,
          0.014017359443996246,
          0.01104413425594217,
          0.023156231308595333,
          0.010704579596318455,
          0.025071503562609933,
          0.00888389822374347,
          0.013359172493815293,
          0.014847125768050647,
          0.006401773352944947,
          0.012323161571852426,
          0.010813899610948415,
          0.018653610005836114,
          0.011554911726582642,
          0.009469538084795111,
          0.011163455283906306,
          0.024881463456695868,
          0.008811084715185151,
          0.014846235001905303,
          0.010018171277517108,
          0.00016422423057573955
         ],
         "xaxis": "x",
         "y": [
          -0.15186245557062958,
          -0.1631718026973543,
          -0.18381226941181306,
          -0.13461152755632833,
          -0.15277226041114358,
          -0.4650357639974541,
          -0.23302057016870117,
          -0.12834338630873957,
          -0.23189195868627402,
          -0.171463162653102,
          -0.16414121277219385,
          -0.12324447430253402,
          -0.11446615734340543,
          -0.11172467691964161,
          -0.16530152326910386,
          -0.0682835555245245,
          -0.15192726550732716,
          -0.18352110848351605,
          -0.15419641345037047,
          -0.19122758382557867,
          -0.15982906107032308,
          -0.1065967252385783,
          -0.15956941830669813,
          -0.1457584410612439,
          -0.14637238743318207,
          -0.2816737167766209,
          -0.13988751360627819,
          -0.10016070939473762,
          -0.0982378383955868,
          0
         ],
         "yaxis": "y"
        },
        {
         "hovertemplate": "<b>%{hovertext}</b><br><br>sector=Híbrido<br>risk=%{x}<br>discount=%{y}<br>current_price=%{marker.size}<extra></extra>",
         "hovertext": [
          "PABY11.SA",
          "WTSP11B.SA",
          "HRDF11.SA",
          "CARE11.SA",
          "VVPR11.SA",
          "BRCR11.SA",
          "DVFF11.SA",
          "CPFF11.SA",
          "MFII11.SA",
          "RBRD11.SA",
          "RBRS11.SA",
          "PLCR11.SA",
          "NEWL11.SA",
          "KNRI11.SA",
          "APTO11.SA",
          "SARE11.SA",
          "HGRU11.SA",
          "FIIB11.SA",
          "MXRF11.SA",
          "HOSI11.SA",
          "JSRE11.SA",
          "CXRI11.SA",
          "FATN11.SA",
          "FLMA11.SA",
          "RECT11.SA",
          "BREV11.SA"
         ],
         "legendgroup": "Híbrido",
         "marker": {
          "color": "#ab63fa",
          "size": [
           11.979999542236328,
           48.53034210205078,
           1.2300000190734863,
           2.5799999237060547,
           87.6005859375,
           68.62683868408203,
           69.81808471679688,
           65.39675903320312,
           96.68624877929688,
           40.2828254699707,
           59.97578430175781,
           81.11453247070312,
           90.60372924804688,
           129.45379638671875,
           9.463600158691406,
           65.57971954345703,
           107.1648941040039,
           427.4440612792969,
           9.138689041137695,
           70.11698913574219,
           76.19953918457031,
           63.43217849731445,
           92.24566650390625,
           114.43986511230469,
           69.3819808959961,
           90.3569564819336
          ],
          "sizemode": "area",
          "sizeref": 5.21302978515625,
          "symbol": "circle"
         },
         "mode": "markers",
         "name": "Híbrido",
         "orientation": "v",
         "showlegend": true,
         "type": "scatter",
         "x": [
          0.1053728259407288,
          0.02837265855016513,
          0.0382628046256047,
          0.035182442918035066,
          0.009100821716070873,
          0.010777097967112296,
          0.014272715680809114,
          0.008585801512262046,
          0.006820406374662202,
          0.01761530425048353,
          0.02473465909582398,
          0.00623986773233211,
          0.010056123666241406,
          0.010944182849283716,
          0.013325111513500583,
          0.011513969867876976,
          0.00742984242437589,
          0.00816247478633641,
          0.007020245503120343,
          0.016121634661336717,
          0.009975234282095829,
          0.011700530329466987,
          0.01920234601866035,
          0.011457992417650517,
          0.009477694726067461,
          0.02171333807851815
         ],
         "xaxis": "x",
         "y": [
          -0.3050570877036061,
          -0.19383766336688202,
          -0.29166667494508924,
          -0.5611510768743817,
          -0.1534287767634201,
          -0.1990420291839183,
          -0.13541364240774592,
          -0.1107896986573226,
          -0.07907013563183295,
          -0.16380785422691604,
          -0.1529563426823097,
          -0.06928106238514117,
          -0.11368012294323308,
          -0.14364693209955903,
          -0.09181155515793024,
          -0.13080352246320334,
          -0.16221786850795633,
          -0.13260257790897692,
          -0.1627325416700533,
          -0.14605755558548372,
          -0.1366949259162481,
          -0.12796611601594277,
          -0.08193142025714782,
          -0.1428812147139132,
          -0.12682566674197476,
          -0.22011554520561163
         ],
         "yaxis": "y"
        },
        {
         "hovertemplate": "<b>%{hovertext}</b><br><br>sector=Residencial<br>risk=%{x}<br>discount=%{y}<br>current_price=%{marker.size}<extra></extra>",
         "hovertext": [
          "KNRE11.SA",
          "RBDS11.SA",
          "RBIR11.SA",
          "KINP11.SA",
          "VCRR11.SA",
          "LUGG11.SA"
         ],
         "legendgroup": "Residencial",
         "marker": {
          "color": "#FFA15A",
          "size": [
           0.4842764437198639,
           9.220000267028809,
           73.71809387207031,
           9.259121894836426,
           73.78498840332031,
           82.36300659179688
          ],
          "sizemode": "area",
          "sizeref": 5.21302978515625,
          "symbol": "circle"
         },
         "mode": "markers",
         "name": "Residencial",
         "orientation": "v",
         "showlegend": true,
         "type": "scatter",
         "x": [
          0.14689469555545875,
          0.067514044573864,
          0.013414776861544972,
          0.03567169332963442,
          0.015014013548488773,
          0.009847983870181347
         ],
         "xaxis": "x",
         "y": [
          -0.31356645149504314,
          -0.43117178365198244,
          -0.1400824276783377,
          -0.24311048620507486,
          -0.1405612297103665,
          -0.09434288097735201
         ],
         "yaxis": "y"
        },
        {
         "hovertemplate": "<b>%{hovertext}</b><br><br>sector=Outros<br>risk=%{x}<br>discount=%{y}<br>current_price=%{marker.size}<extra></extra>",
         "hovertext": [
          "MBRF11.SA",
          "HCTR11.SA",
          "FAED11.SA",
          "RBRP11.SA",
          "VGIP11.SA",
          "BLMC11.SA",
          "XPIN11.SA",
          "FCFL11.SA",
          "CXCE11B.SA",
          "RBED11.SA",
          "RBVA11.SA",
          "CXAG11.SA",
          "RBVO11.SA",
          "HUSC11.SA",
          "XPCI11.SA",
          "GESE11B.SA",
          "BBRC11.SA",
          "XPPR11.SA",
          "BNFS11.SA",
          "TRXF11.SA",
          "XPSF11.SA",
          "QAGR11.SA"
         ],
         "legendgroup": "Outros",
         "marker": {
          "color": "#19d3f3",
          "size": [
           742.3104858398438,
           115.4041976928711,
           209.01756286621094,
           72.64321899414062,
           90.85835266113281,
           86.8917007446289,
           85.8572006225586,
           101.6529312133789,
           41.67375183105469,
           117.10978698730469,
           90.84784698486328,
           72.11663818359375,
           10.210342407226562,
           118.0600357055664,
           87.76007080078125,
           1399.906982421875,
           96.55886840820312,
           62.93006896972656,
           112.17548370361328,
           93.86267852783203,
           73.0198974609375,
           46.87677764892578
          ],
          "sizemode": "area",
          "sizeref": 5.21302978515625,
          "symbol": "circle"
         },
         "mode": "markers",
         "name": "Outros",
         "orientation": "v",
         "showlegend": true,
         "type": "scatter",
         "x": [
          0.021874222127005894,
          0.01254749563362831,
          0.027154272211669245,
          0.015619766693740806,
          0.006976866935830548,
          0.01335079549525767,
          0.009463461870569095,
          0.01353134005498876,
          0.011685968969740942,
          0.009883809732405234,
          0.006742229056403882,
          0.007796237467232587,
          0.025271626989724454,
          0.03272081377735471,
          0.009231963097500179,
          0.0017708138972889055,
          0.009182174001412021,
          0.01587513794882234,
          0.008767551643436521,
          0.00560973755063219,
          0.06004434053058639,
          0.0049714658053480075
         ],
         "xaxis": "x",
         "y": [
          -0.3040590159166505,
          -0.17456318405447432,
          -0.2127720098209574,
          -0.2164580990100859,
          -0.06647627597398717,
          -0.08389123016811428,
          -0.16908792345039012,
          -0.12722122487245197,
          -0.128993156424076,
          -0.12721197768703674,
          -0.10244509582460831,
          -0.09909097171483039,
          -0.17825505068275221,
          -0.21671016803667356,
          -0.08640693423383199,
          -0.05321378284339565,
          -0.10787969850059967,
          -0.3865047227527027,
          -0.09668654283148737,
          -0.12419533215929834,
          -0.900954658597889,
          -0.0771581069280697
         ],
         "yaxis": "y"
        },
        {
         "hovertemplate": "<b>%{hovertext}</b><br><br>sector=Logística<br>risk=%{x}<br>discount=%{y}<br>current_price=%{marker.size}<extra></extra>",
         "hovertext": [
          "RBRL11.SA",
          "BTLG11.SA",
          "ALZR11.SA",
          "CXTL11.SA",
          "VILG11.SA",
          "LGCP11.SA",
          "BRCO11.SA",
          "SDIL11.SA",
          "HLOG11.SA",
          "VTLT11.SA",
          "XPLG11.SA",
          "LVBI11.SA",
          "FIIP11B.SA",
          "EURO11.SA",
          "HGLG11.SA",
          "GGRC11.SA"
         ],
         "legendgroup": "Logística",
         "marker": {
          "color": "#FF6692",
          "size": [
           79.19114685058594,
           99.98023986816406,
           103.14373779296875,
           281.9618835449219,
           91.87154388427734,
           78.86429595947266,
           95.63943481445312,
           82.07303619384766,
           88.55107879638672,
           87.92137908935547,
           93.55157470703125,
           99.90763092041016,
           158.42723083496094,
           189.7798614501953,
           156.78179931640625,
           106.93326568603516
          ],
          "sizemode": "area",
          "sizeref": 5.21302978515625,
          "symbol": "circle"
         },
         "mode": "markers",
         "name": "Logística",
         "orientation": "v",
         "showlegend": true,
         "type": "scatter",
         "x": [
          0.010526076912943027,
          0.0059275645064578554,
          0.006863618308244114,
          0.03362322176553158,
          0.010067573043279059,
          0.008913151095353037,
          0.009082213685368646,
          0.008830962255499057,
          0.008157693314372718,
          0.011955006551705753,
          0.009193015159474177,
          0.010469748641881034,
          0.015338155694691527,
          0.019759769577624802,
          0.007269435155653221,
          0.009079103910380621
         ],
         "xaxis": "x",
         "y": [
          -0.12359201074894836,
          -0.06329550429827974,
          -0.10947987464611564,
          -0.2876348791928932,
          -0.14311219166656053,
          -0.12961470272104073,
          -0.11296341619300922,
          -0.1616874251797389,
          -0.10871332319097027,
          -0.11969141396206597,
          -0.1604354375160572,
          -0.11376423625576788,
          -0.08872047302912175,
          -0.1715901693222955,
          -0.09125045700823851,
          -0.17672125744182843
         ],
         "yaxis": "y"
        },
        {
         "hovertemplate": "<b>%{hovertext}</b><br><br>sector=Hotel<br>risk=%{x}<br>discount=%{y}<br>current_price=%{marker.size}<extra></extra>",
         "hovertext": [
          "MGHT11.SA",
          "XPHT11.SA"
         ],
         "legendgroup": "Hotel",
         "marker": {
          "color": "#B6E880",
          "size": [
           78.31388854980469,
           89.38915252685547
          ],
          "sizemode": "area",
          "sizeref": 5.21302978515625,
          "symbol": "circle"
         },
         "mode": "markers",
         "name": "Hotel",
         "orientation": "v",
         "showlegend": true,
         "type": "scatter",
         "x": [
          0.01835186594541527,
          0.014716958556285966
         ],
         "xaxis": "x",
         "y": [
          -0.26362406467293614,
          -0.2091069245162467
         ],
         "yaxis": "y"
        },
        {
         "hovertemplate": "<b>%{hovertext}</b><br><br>sector=Hospital<br>risk=%{x}<br>discount=%{y}<br>current_price=%{marker.size}<extra></extra>",
         "hovertext": [
          "NVHO11.SA"
         ],
         "legendgroup": "Hospital",
         "marker": {
          "color": "#FF97FF",
          "size": [
           10.648580551147461
          ],
          "sizemode": "area",
          "sizeref": 5.21302978515625,
          "symbol": "circle"
         },
         "mode": "markers",
         "name": "Hospital",
         "orientation": "v",
         "showlegend": true,
         "type": "scatter",
         "x": [
          0.026246423232852104
         ],
         "xaxis": "x",
         "y": [
          -0.12947826249489883
         ],
         "yaxis": "y"
        },
        {
         "hovertemplate": "<b>%{hovertext}</b><br><br>sector=Renda<br>risk=%{x}<br>discount=%{y}<br>current_price=%{marker.size}<extra></extra>",
         "hovertext": [
          "KCRE11.SA"
         ],
         "legendgroup": "Renda",
         "marker": {
          "color": "#FECB52",
          "size": [
           94.87786102294922
          ],
          "sizemode": "area",
          "sizeref": 5.21302978515625,
          "symbol": "circle"
         },
         "mode": "markers",
         "name": "Renda",
         "orientation": "v",
         "showlegend": true,
         "type": "scatter",
         "x": [
          0.007971670338167236
         ],
         "xaxis": "x",
         "y": [
          -0.04534953341121073
         ],
         "yaxis": "y"
        }
       ],
       "layout": {
        "autosize": true,
        "legend": {
         "itemsizing": "constant",
         "title": {
          "text": "sector"
         },
         "tracegroupgap": 0
        },
        "margin": {
         "t": 60
        },
        "template": {
         "data": {
          "bar": [
           {
            "error_x": {
             "color": "#2a3f5f"
            },
            "error_y": {
             "color": "#2a3f5f"
            },
            "marker": {
             "line": {
              "color": "#E5ECF6",
              "width": 0.5
             },
             "pattern": {
              "fillmode": "overlay",
              "size": 10,
              "solidity": 0.2
             }
            },
            "type": "bar"
           }
          ],
          "barpolar": [
           {
            "marker": {
             "line": {
              "color": "#E5ECF6",
              "width": 0.5
             },
             "pattern": {
              "fillmode": "overlay",
              "size": 10,
              "solidity": 0.2
             }
            },
            "type": "barpolar"
           }
          ],
          "carpet": [
           {
            "aaxis": {
             "endlinecolor": "#2a3f5f",
             "gridcolor": "white",
             "linecolor": "white",
             "minorgridcolor": "white",
             "startlinecolor": "#2a3f5f"
            },
            "baxis": {
             "endlinecolor": "#2a3f5f",
             "gridcolor": "white",
             "linecolor": "white",
             "minorgridcolor": "white",
             "startlinecolor": "#2a3f5f"
            },
            "type": "carpet"
           }
          ],
          "choropleth": [
           {
            "colorbar": {
             "outlinewidth": 0,
             "ticks": ""
            },
            "type": "choropleth"
           }
          ],
          "contour": [
           {
            "colorbar": {
             "outlinewidth": 0,
             "ticks": ""
            },
            "colorscale": [
             [
              0,
              "#0d0887"
             ],
             [
              0.1111111111111111,
              "#46039f"
             ],
             [
              0.2222222222222222,
              "#7201a8"
             ],
             [
              0.3333333333333333,
              "#9c179e"
             ],
             [
              0.4444444444444444,
              "#bd3786"
             ],
             [
              0.5555555555555556,
              "#d8576b"
             ],
             [
              0.6666666666666666,
              "#ed7953"
             ],
             [
              0.7777777777777778,
              "#fb9f3a"
             ],
             [
              0.8888888888888888,
              "#fdca26"
             ],
             [
              1,
              "#f0f921"
             ]
            ],
            "type": "contour"
           }
          ],
          "contourcarpet": [
           {
            "colorbar": {
             "outlinewidth": 0,
             "ticks": ""
            },
            "type": "contourcarpet"
           }
          ],
          "heatmap": [
           {
            "colorbar": {
             "outlinewidth": 0,
             "ticks": ""
            },
            "colorscale": [
             [
              0,
              "#0d0887"
             ],
             [
              0.1111111111111111,
              "#46039f"
             ],
             [
              0.2222222222222222,
              "#7201a8"
             ],
             [
              0.3333333333333333,
              "#9c179e"
             ],
             [
              0.4444444444444444,
              "#bd3786"
             ],
             [
              0.5555555555555556,
              "#d8576b"
             ],
             [
              0.6666666666666666,
              "#ed7953"
             ],
             [
              0.7777777777777778,
              "#fb9f3a"
             ],
             [
              0.8888888888888888,
              "#fdca26"
             ],
             [
              1,
              "#f0f921"
             ]
            ],
            "type": "heatmap"
           }
          ],
          "heatmapgl": [
           {
            "colorbar": {
             "outlinewidth": 0,
             "ticks": ""
            },
            "colorscale": [
             [
              0,
              "#0d0887"
             ],
             [
              0.1111111111111111,
              "#46039f"
             ],
             [
              0.2222222222222222,
              "#7201a8"
             ],
             [
              0.3333333333333333,
              "#9c179e"
             ],
             [
              0.4444444444444444,
              "#bd3786"
             ],
             [
              0.5555555555555556,
              "#d8576b"
             ],
             [
              0.6666666666666666,
              "#ed7953"
             ],
             [
              0.7777777777777778,
              "#fb9f3a"
             ],
             [
              0.8888888888888888,
              "#fdca26"
             ],
             [
              1,
              "#f0f921"
             ]
            ],
            "type": "heatmapgl"
           }
          ],
          "histogram": [
           {
            "marker": {
             "pattern": {
              "fillmode": "overlay",
              "size": 10,
              "solidity": 0.2
             }
            },
            "type": "histogram"
           }
          ],
          "histogram2d": [
           {
            "colorbar": {
             "outlinewidth": 0,
             "ticks": ""
            },
            "colorscale": [
             [
              0,
              "#0d0887"
             ],
             [
              0.1111111111111111,
              "#46039f"
             ],
             [
              0.2222222222222222,
              "#7201a8"
             ],
             [
              0.3333333333333333,
              "#9c179e"
             ],
             [
              0.4444444444444444,
              "#bd3786"
             ],
             [
              0.5555555555555556,
              "#d8576b"
             ],
             [
              0.6666666666666666,
              "#ed7953"
             ],
             [
              0.7777777777777778,
              "#fb9f3a"
             ],
             [
              0.8888888888888888,
              "#fdca26"
             ],
             [
              1,
              "#f0f921"
             ]
            ],
            "type": "histogram2d"
           }
          ],
          "histogram2dcontour": [
           {
            "colorbar": {
             "outlinewidth": 0,
             "ticks": ""
            },
            "colorscale": [
             [
              0,
              "#0d0887"
             ],
             [
              0.1111111111111111,
              "#46039f"
             ],
             [
              0.2222222222222222,
              "#7201a8"
             ],
             [
              0.3333333333333333,
              "#9c179e"
             ],
             [
              0.4444444444444444,
              "#bd3786"
             ],
             [
              0.5555555555555556,
              "#d8576b"
             ],
             [
              0.6666666666666666,
              "#ed7953"
             ],
             [
              0.7777777777777778,
              "#fb9f3a"
             ],
             [
              0.8888888888888888,
              "#fdca26"
             ],
             [
              1,
              "#f0f921"
             ]
            ],
            "type": "histogram2dcontour"
           }
          ],
          "mesh3d": [
           {
            "colorbar": {
             "outlinewidth": 0,
             "ticks": ""
            },
            "type": "mesh3d"
           }
          ],
          "parcoords": [
           {
            "line": {
             "colorbar": {
              "outlinewidth": 0,
              "ticks": ""
             }
            },
            "type": "parcoords"
           }
          ],
          "pie": [
           {
            "automargin": true,
            "type": "pie"
           }
          ],
          "scatter": [
           {
            "fillpattern": {
             "fillmode": "overlay",
             "size": 10,
             "solidity": 0.2
            },
            "type": "scatter"
           }
          ],
          "scatter3d": [
           {
            "line": {
             "colorbar": {
              "outlinewidth": 0,
              "ticks": ""
             }
            },
            "marker": {
             "colorbar": {
              "outlinewidth": 0,
              "ticks": ""
             }
            },
            "type": "scatter3d"
           }
          ],
          "scattercarpet": [
           {
            "marker": {
             "colorbar": {
              "outlinewidth": 0,
              "ticks": ""
             }
            },
            "type": "scattercarpet"
           }
          ],
          "scattergeo": [
           {
            "marker": {
             "colorbar": {
              "outlinewidth": 0,
              "ticks": ""
             }
            },
            "type": "scattergeo"
           }
          ],
          "scattergl": [
           {
            "marker": {
             "colorbar": {
              "outlinewidth": 0,
              "ticks": ""
             }
            },
            "type": "scattergl"
           }
          ],
          "scattermapbox": [
           {
            "marker": {
             "colorbar": {
              "outlinewidth": 0,
              "ticks": ""
             }
            },
            "type": "scattermapbox"
           }
          ],
          "scatterpolar": [
           {
            "marker": {
             "colorbar": {
              "outlinewidth": 0,
              "ticks": ""
             }
            },
            "type": "scatterpolar"
           }
          ],
          "scatterpolargl": [
           {
            "marker": {
             "colorbar": {
              "outlinewidth": 0,
              "ticks": ""
             }
            },
            "type": "scatterpolargl"
           }
          ],
          "scatterternary": [
           {
            "marker": {
             "colorbar": {
              "outlinewidth": 0,
              "ticks": ""
             }
            },
            "type": "scatterternary"
           }
          ],
          "surface": [
           {
            "colorbar": {
             "outlinewidth": 0,
             "ticks": ""
            },
            "colorscale": [
             [
              0,
              "#0d0887"
             ],
             [
              0.1111111111111111,
              "#46039f"
             ],
             [
              0.2222222222222222,
              "#7201a8"
             ],
             [
              0.3333333333333333,
              "#9c179e"
             ],
             [
              0.4444444444444444,
              "#bd3786"
             ],
             [
              0.5555555555555556,
              "#d8576b"
             ],
             [
              0.6666666666666666,
              "#ed7953"
             ],
             [
              0.7777777777777778,
              "#fb9f3a"
             ],
             [
              0.8888888888888888,
              "#fdca26"
             ],
             [
              1,
              "#f0f921"
             ]
            ],
            "type": "surface"
           }
          ],
          "table": [
           {
            "cells": {
             "fill": {
              "color": "#EBF0F8"
             },
             "line": {
              "color": "white"
             }
            },
            "header": {
             "fill": {
              "color": "#C8D4E3"
             },
             "line": {
              "color": "white"
             }
            },
            "type": "table"
           }
          ]
         },
         "layout": {
          "annotationdefaults": {
           "arrowcolor": "#2a3f5f",
           "arrowhead": 0,
           "arrowwidth": 1
          },
          "autotypenumbers": "strict",
          "coloraxis": {
           "colorbar": {
            "outlinewidth": 0,
            "ticks": ""
           }
          },
          "colorscale": {
           "diverging": [
            [
             0,
             "#8e0152"
            ],
            [
             0.1,
             "#c51b7d"
            ],
            [
             0.2,
             "#de77ae"
            ],
            [
             0.3,
             "#f1b6da"
            ],
            [
             0.4,
             "#fde0ef"
            ],
            [
             0.5,
             "#f7f7f7"
            ],
            [
             0.6,
             "#e6f5d0"
            ],
            [
             0.7,
             "#b8e186"
            ],
            [
             0.8,
             "#7fbc41"
            ],
            [
             0.9,
             "#4d9221"
            ],
            [
             1,
             "#276419"
            ]
           ],
           "sequential": [
            [
             0,
             "#0d0887"
            ],
            [
             0.1111111111111111,
             "#46039f"
            ],
            [
             0.2222222222222222,
             "#7201a8"
            ],
            [
             0.3333333333333333,
             "#9c179e"
            ],
            [
             0.4444444444444444,
             "#bd3786"
            ],
            [
             0.5555555555555556,
             "#d8576b"
            ],
            [
             0.6666666666666666,
             "#ed7953"
            ],
            [
             0.7777777777777778,
             "#fb9f3a"
            ],
            [
             0.8888888888888888,
             "#fdca26"
            ],
            [
             1,
             "#f0f921"
            ]
           ],
           "sequentialminus": [
            [
             0,
             "#0d0887"
            ],
            [
             0.1111111111111111,
             "#46039f"
            ],
            [
             0.2222222222222222,
             "#7201a8"
            ],
            [
             0.3333333333333333,
             "#9c179e"
            ],
            [
             0.4444444444444444,
             "#bd3786"
            ],
            [
             0.5555555555555556,
             "#d8576b"
            ],
            [
             0.6666666666666666,
             "#ed7953"
            ],
            [
             0.7777777777777778,
             "#fb9f3a"
            ],
            [
             0.8888888888888888,
             "#fdca26"
            ],
            [
             1,
             "#f0f921"
            ]
           ]
          },
          "colorway": [
           "#636efa",
           "#EF553B",
           "#00cc96",
           "#ab63fa",
           "#FFA15A",
           "#19d3f3",
           "#FF6692",
           "#B6E880",
           "#FF97FF",
           "#FECB52"
          ],
          "font": {
           "color": "#2a3f5f"
          },
          "geo": {
           "bgcolor": "white",
           "lakecolor": "white",
           "landcolor": "#E5ECF6",
           "showlakes": true,
           "showland": true,
           "subunitcolor": "white"
          },
          "hoverlabel": {
           "align": "left"
          },
          "hovermode": "closest",
          "mapbox": {
           "style": "light"
          },
          "paper_bgcolor": "white",
          "plot_bgcolor": "#E5ECF6",
          "polar": {
           "angularaxis": {
            "gridcolor": "white",
            "linecolor": "white",
            "ticks": ""
           },
           "bgcolor": "#E5ECF6",
           "radialaxis": {
            "gridcolor": "white",
            "linecolor": "white",
            "ticks": ""
           }
          },
          "scene": {
           "xaxis": {
            "backgroundcolor": "#E5ECF6",
            "gridcolor": "white",
            "gridwidth": 2,
            "linecolor": "white",
            "showbackground": true,
            "ticks": "",
            "zerolinecolor": "white"
           },
           "yaxis": {
            "backgroundcolor": "#E5ECF6",
            "gridcolor": "white",
            "gridwidth": 2,
            "linecolor": "white",
            "showbackground": true,
            "ticks": "",
            "zerolinecolor": "white"
           },
           "zaxis": {
            "backgroundcolor": "#E5ECF6",
            "gridcolor": "white",
            "gridwidth": 2,
            "linecolor": "white",
            "showbackground": true,
            "ticks": "",
            "zerolinecolor": "white"
           }
          },
          "shapedefaults": {
           "line": {
            "color": "#2a3f5f"
           }
          },
          "ternary": {
           "aaxis": {
            "gridcolor": "white",
            "linecolor": "white",
            "ticks": ""
           },
           "baxis": {
            "gridcolor": "white",
            "linecolor": "white",
            "ticks": ""
           },
           "bgcolor": "#E5ECF6",
           "caxis": {
            "gridcolor": "white",
            "linecolor": "white",
            "ticks": ""
           }
          },
          "title": {
           "x": 0.05
          },
          "xaxis": {
           "automargin": true,
           "gridcolor": "white",
           "linecolor": "white",
           "ticks": "",
           "title": {
            "standoff": 15
           },
           "zerolinecolor": "white",
           "zerolinewidth": 2
          },
          "yaxis": {
           "automargin": true,
           "gridcolor": "white",
           "linecolor": "white",
           "ticks": "",
           "title": {
            "standoff": 15
           },
           "zerolinecolor": "white",
           "zerolinewidth": 2
          }
         }
        },
        "xaxis": {
         "anchor": "y",
         "autorange": true,
         "domain": [
          0,
          1
         ],
         "range": [
          -4.06068104090151,
          1.0804573759863394
         ],
         "title": {
          "text": "risk"
         },
         "type": "log"
        },
        "yaxis": {
         "anchor": "x",
         "autorange": true,
         "domain": [
          0,
          1
         ],
         "range": [
          -0.9687404503433417,
          0.07310951882332391
         ],
         "title": {
          "text": "discount"
         },
         "type": "linear"
        }
       }
      },
      "image/png": "[encoded data removed]",
      "text/html": [
       "<div>                            <div id=\"6aa72059-a27c-4b95-886a-b55e13b17d08\" class=\"plotly-graph-div\" style=\"height:525px; width:100%;\"></div>            <script type=\"text/javascript\">                require([\"plotly\"], function(Plotly) {                    window.PLOTLYENV=window.PLOTLYENV || {};                                    if (document.getElementById(\"6aa72059-a27c-4b95-886a-b55e13b17d08\")) {                    Plotly.newPlot(                        \"6aa72059-a27c-4b95-886a-b55e13b17d08\",                        [{\"hovertemplate\":\"<b>%{hovertext}</b><br><br>sector=Shoppings<br>risk=%{x}<br>discount=%{y}<br>current_price=%{marker.size}<extra></extra>\",\"hovertext\":[\"FIVN11.SA\",\"GSFI11.SA\",\"RBGS11.SA\",\"BPML11.SA\",\"XPML11.SA\",\"HSML11.SA\",\"PQDP11.SA\",\"MALL11.SA\",\"SHPH11.SA\",\"HPDP11.SA\",\"VSHO11.SA\",\"VISC11.SA\",\"ABCP11.SA\",\"HGBS11.SA\",\"FIGS11.SA\",\"FVPQ11.SA\",\"SCPF11.SA\"],\"legendgroup\":\"Shoppings\",\"marker\":{\"color\":\"#636efa\",\"size\":[4.070000171661377,4.519999980926514,28.450000762939453,72.04759979248047,91.46257781982422,75.01742553710938,1981.0662841796875,91.12655639648438,766.0966186523438,74.60466766357422,76.448486328125,96.28363800048828,64.84054565429688,181.27816772460938,51.7110595703125,101.24720764160156,7.72667932510376],\"sizemode\":\"area\",\"sizeref\":5.21302978515625,\"symbol\":\"circle\"},\"mode\":\"markers\",\"name\":\"Shoppings\",\"orientation\":\"v\",\"showlegend\":true,\"x\":[0.038420824690525726,0.011574358587559707,0.0,0.01702527739789466,0.010923358931801014,0.009215351943227361,0.015165845330828423,0.006963650131009262,0.06709851053911194,0.026331394747645794,0.010047005162049859,0.008476135572690217,0.011858955448544662,0.010500929548162681,0.011845189803400592,0.013076992925349376,0.029900878669361735],\"xaxis\":\"x\",\"y\":[-0.3690851886861136,-0.07268720847551799,0.0,-0.14818755298508454,-0.1616330935826345,-0.1958347513631348,-0.1490573849615556,-0.154215715554012,-0.4758488314453314,-0.09774625647124607,-0.08706265093366984,-0.1341913363445939,-0.10725764718023802,-0.21476923674122653,-0.1477250631455434,-0.151308528856477,-0.34542630903801164],\"yaxis\":\"y\",\"type\":\"scatter\"},{\"hovertemplate\":\"<b>%{hovertext}</b><br><br>sector=T\\u00edtulos e Val. Mob.<br>risk=%{x}<br>discount=%{y}<br>current_price=%{marker.size}<extra></extra>\",\"hovertext\":[\"BZLI11.SA\",\"ORPD11.SA\",\"IBFF11.SA\",\"CVBI11.SA\",\"RECR11.SA\",\"BTCR11.SA\",\"RVBI11.SA\",\"IRDM11.SA\",\"RBRR11.SA\",\"RBRF11.SA\",\"RBRY11.SA\",\"VGIR11.SA\",\"MCCI11.SA\",\"SNCI11.SA\",\"GCFF11.SA\",\"MORE11.SA\",\"GCRI11.SA\",\"NAVT11.SA\",\"MGCR11.SA\",\"OURE11.SA\",\"OUFF11.SA\",\"MATV11.SA\",\"PORD11.SA\",\"BARI11.SA\",\"SADI11.SA\",\"VOTS11.SA\",\"BPFF11.SA\",\"KNIP11.SA\",\"KNCR11.SA\",\"OUJP11.SA\",\"KFOF11.SA\",\"BCIA11.SA\",\"KNSC11.SA\",\"RBFF11.SA\",\"VCJR11.SA\",\"RNDP11.SA\",\"PLRI11.SA\",\"BCRI11.SA\",\"HABT11.SA\",\"ARRI11.SA\",\"RDPD11.SA\",\"VRTA11.SA\",\"HFOF11.SA\",\"KNHY11.SA\",\"JPPA11.SA\",\"BICR11.SA\",\"ITIT11.SA\",\"HGCR11.SA\",\"VIFI11.SA\",\"HGFF11.SA\",\"RFOF11.SA\",\"CRFF11.SA\",\"MGFF11.SA\"],\"legendgroup\":\"T\\u00edtulos e Val. Mob.\",\"marker\":{\"color\":\"#EF553B\",\"size\":[16.75,129.72000122070312,7.70669412612915,92.79883575439453,92.83875274658203,81.70923614501953,76.80636596679688,97.65090942382812,91.86066436767578,69.40869903564453,93.6910171508789,7.881495475769043,92.17415618896484,94.81712341308594,66.6703109741211,67.59388732910156,86.9782943725586,65.98487091064453,77.8149185180664,74.1991958618164,65.37311553955078,89.82501983642578,83.7314682006836,92.42819213867188,81.30010223388672,76.10016632080078,61.46961975097656,94.67488098144531,93.02141571044922,78.28882598876953,72.73698425292969,78.71507263183594,87.58393096923828,52.21156692504883,89.07707977294922,113.93143463134766,32.079063415527344,97.32369995117188,96.89496612548828,8.561792373657227,24.358238220214844,96.00749969482422,75.77991485595703,99.10739135742188,85.32976531982422,88.2115249633789,66.32306671142578,95.556396484375,69.78459930419922,68.80372619628906,67.98576354980469,62.856327056884766,62.27260208129883],\"sizemode\":\"area\",\"sizeref\":5.21302978515625,\"symbol\":\"circle\"},\"mode\":\"markers\",\"name\":\"T\\u00edtulos e Val. Mob.\",\"orientation\":\"v\",\"showlegend\":true,\"x\":[0.016464311281873287,0.015267264877151725,0.31594141932451747,0.008138549162549096,0.0071796560438646155,0.00811130444082148,0.010086502730608153,0.007593684953649672,0.008294666474686288,0.010434219142217796,0.006790784589003255,0.010641930198767332,0.00521990195021141,0.006801158511415644,0.007469309707124355,0.008156145664856179,0.0036269162079970467,0.01753424725026269,0.006378327672688601,0.007027202536024483,0.00889532856430507,0.01332765045304219,0.006406615355358595,0.0059374032648546095,0.0046279349929888485,0.019716722859811606,0.009962804451758714,0.005604046094382515,0.004190318917835261,0.008010278362162289,0.011603431961093076,0.008034417651780165,0.006128896526427776,0.011897728742810082,0.00927824069418952,0.08487834194329225,0.03953406575840804,0.006808684032201952,0.00745033781143433,0.007554747869935396,0.02497558758053982,0.006715555617332518,6.463301424132976,0.007111699938086687,0.005875752880479505,0.030309100346595473,0.008303524343870326,0.006404184647206411,0.059862192929533126,0.011317559709760163,0.01145544575823328,0.016422391307655836,0.0100667385780353],\"xaxis\":\"x\",\"y\":[-0.10529411540311925,-0.2778942088040812,-0.8582894565081126,-0.06153467010010514,-0.09773841968892674,-0.10892626035082026,-0.0879220758605085,-0.0696608527635641,-0.09754016538881774,-0.11908004014966639,-0.0572078449865397,-0.19657721275479786,-0.051602279146847785,-0.06139190024615627,-0.08790073422755652,-0.13753555661723255,-0.06355364884571309,-0.14040486988273543,-0.1011127691631925,-0.12077942241084573,-0.11524280558728354,-0.08221025692561966,-0.12521737166092506,-0.04117571276450088,-0.11094734205298538,-0.15144832650338214,-0.13495613444594862,-0.05625289022494942,-0.08353472894113842,-0.1583062791089701,-0.18152827847053957,-0.1126628982037253,-0.05691500219013929,-0.1548223305947549,-0.07325771561180407,-0.23491319686636156,-0.32546634245861,-0.05091339111801055,-0.09846713064613258,-0.07187974702395727,-0.1173454073778115,-0.060423733385050686,-0.12475521677092255,-0.05129910622148114,-0.17099485924699193,-0.21149873314728698,-0.16458663859845607,-0.06495562655388142,-0.9024409068509175,-0.17438502867797764,-0.12741236169351774,-0.16318214310721793,-0.10716467802275029],\"yaxis\":\"y\",\"type\":\"scatter\"},{\"hovertemplate\":\"<b>%{hovertext}</b><br><br>sector=Lajes Corporativas<br>risk=%{x}<br>discount=%{y}<br>current_price=%{marker.size}<extra></extra>\",\"hovertext\":[\"XTED11.SA\",\"NEWU11.SA\",\"PRSV11.SA\",\"FAMB11B.SA\",\"FMOF11.SA\",\"CTXT11.SA\",\"RBCO11.SA\",\"RCRB11.SA\",\"ONEF11.SA\",\"DRIT11B.SA\",\"BMLC11.SA\",\"CEOC11.SA\",\"BLCA11.SA\",\"RNGO11.SA\",\"EDFO11B.SA\",\"SPTW11.SA\",\"VLOL11.SA\",\"VINO11.SA\",\"BBPO11.SA\",\"TEPP11.SA\",\"PATC11.SA\",\"FPAB11.SA\",\"GTWR11.SA\",\"HGPO11.SA\",\"HGRE11.SA\",\"XPCM11.SA\",\"BBFI11B.SA\",\"CBOP11.SA\",\"AIEC11.SA\",\"FISC11.SA\"],\"legendgroup\":\"Lajes Corporativas\",\"marker\":{\"color\":\"#00cc96\",\"size\":[6.28000020980835,33.9327392578125,123.0,997.0,67.04827880859375,18.0,53.00614547729492,131.1344757080078,130.98207092285156,77.82234954833984,90.1086654663086,55.300174713134766,96.19731140136719,47.868412017822266,228.76214599609375,40.293434143066406,90.65461730957031,52.53424835205078,83.91593933105469,70.45545959472656,55.51353073120117,195.84426879882812,82.65608215332031,224.15841674804688,127.05477905273438,18.54436683654785,2085.2119140625,55.70224380493164,71.24012756347656,164.2810516357422],\"sizemode\":\"area\",\"sizeref\":5.21302978515625,\"symbol\":\"circle\"},\"mode\":\"markers\",\"name\":\"Lajes Corporativas\",\"orientation\":\"v\",\"showlegend\":true,\"x\":[0.021473582398073322,0.04571068162674448,0.017697082065209868,0.028655202590412453,0.0164740500720322,0.03337421665321822,0.01572505084185517,0.016878477745252946,0.009293242206277818,0.039235408908429824,0.014017359443996246,0.01104413425594217,0.023156231308595333,0.010704579596318455,0.025071503562609933,0.00888389822374347,0.013359172493815293,0.014847125768050647,0.006401773352944947,0.012323161571852426,0.010813899610948415,0.018653610005836114,0.011554911726582642,0.009469538084795111,0.011163455283906306,0.024881463456695868,0.008811084715185151,0.014846235001905303,0.010018171277517108,0.00016422423057573955],\"xaxis\":\"x\",\"y\":[-0.15186245557062958,-0.1631718026973543,-0.18381226941181306,-0.13461152755632833,-0.15277226041114358,-0.4650357639974541,-0.23302057016870117,-0.12834338630873957,-0.23189195868627402,-0.171463162653102,-0.16414121277219385,-0.12324447430253402,-0.11446615734340543,-0.11172467691964161,-0.16530152326910386,-0.0682835555245245,-0.15192726550732716,-0.18352110848351605,-0.15419641345037047,-0.19122758382557867,-0.15982906107032308,-0.1065967252385783,-0.15956941830669813,-0.1457584410612439,-0.14637238743318207,-0.2816737167766209,-0.13988751360627819,-0.10016070939473762,-0.0982378383955868,0.0],\"yaxis\":\"y\",\"type\":\"scatter\"},{\"hovertemplate\":\"<b>%{hovertext}</b><br><br>sector=H\\u00edbrido<br>risk=%{x}<br>discount=%{y}<br>current_price=%{marker.size}<extra></extra>\",\"hovertext\":[\"PABY11.SA\",\"WTSP11B.SA\",\"HRDF11.SA\",\"CARE11.SA\",\"VVPR11.SA\",\"BRCR11.SA\",\"DVFF11.SA\",\"CPFF11.SA\",\"MFII11.SA\",\"RBRD11.SA\",\"RBRS11.SA\",\"PLCR11.SA\",\"NEWL11.SA\",\"KNRI11.SA\",\"APTO11.SA\",\"SARE11.SA\",\"HGRU11.SA\",\"FIIB11.SA\",\"MXRF11.SA\",\"HOSI11.SA\",\"JSRE11.SA\",\"CXRI11.SA\",\"FATN11.SA\",\"FLMA11.SA\",\"RECT11.SA\",\"BREV11.SA\"],\"legendgroup\":\"H\\u00edbrido\",\"marker\":{\"color\":\"#ab63fa\",\"size\":[11.979999542236328,48.53034210205078,1.2300000190734863,2.5799999237060547,87.6005859375,68.62683868408203,69.81808471679688,65.39675903320312,96.68624877929688,40.2828254699707,59.97578430175781,81.11453247070312,90.60372924804688,129.45379638671875,9.463600158691406,65.57971954345703,107.1648941040039,427.4440612792969,9.138689041137695,70.11698913574219,76.19953918457031,63.43217849731445,92.24566650390625,114.43986511230469,69.3819808959961,90.3569564819336],\"sizemode\":\"area\",\"sizeref\":5.21302978515625,\"symbol\":\"circle\"},\"mode\":\"markers\",\"name\":\"H\\u00edbrido\",\"orientation\":\"v\",\"showlegend\":true,\"x\":[0.1053728259407288,0.02837265855016513,0.0382628046256047,0.035182442918035066,0.009100821716070873,0.010777097967112296,0.014272715680809114,0.008585801512262046,0.006820406374662202,0.01761530425048353,0.02473465909582398,0.00623986773233211,0.010056123666241406,0.010944182849283716,0.013325111513500583,0.011513969867876976,0.00742984242437589,0.00816247478633641,0.007020245503120343,0.016121634661336717,0.009975234282095829,0.011700530329466987,0.01920234601866035,0.011457992417650517,0.009477694726067461,0.02171333807851815],\"xaxis\":\"x\",\"y\":[-0.3050570877036061,-0.19383766336688202,-0.29166667494508924,-0.5611510768743817,-0.1534287767634201,-0.1990420291839183,-0.13541364240774592,-0.1107896986573226,-0.07907013563183295,-0.16380785422691604,-0.1529563426823097,-0.06928106238514117,-0.11368012294323308,-0.14364693209955903,-0.09181155515793024,-0.13080352246320334,-0.16221786850795633,-0.13260257790897692,-0.1627325416700533,-0.14605755558548372,-0.1366949259162481,-0.12796611601594277,-0.08193142025714782,-0.1428812147139132,-0.12682566674197476,-0.22011554520561163],\"yaxis\":\"y\",\"type\":\"scatter\"},{\"hovertemplate\":\"<b>%{hovertext}</b><br><br>sector=Residencial<br>risk=%{x}<br>discount=%{y}<br>current_price=%{marker.size}<extra></extra>\",\"hovertext\":[\"KNRE11.SA\",\"RBDS11.SA\",\"RBIR11.SA\",\"KINP11.SA\",\"VCRR11.SA\",\"LUGG11.SA\"],\"legendgroup\":\"Residencial\",\"marker\":{\"color\":\"#FFA15A\",\"size\":[0.4842764437198639,9.220000267028809,73.71809387207031,9.259121894836426,73.78498840332031,82.36300659179688],\"sizemode\":\"area\",\"sizeref\":5.21302978515625,\"symbol\":\"circle\"},\"mode\":\"markers\",\"name\":\"Residencial\",\"orientation\":\"v\",\"showlegend\":true,\"x\":[0.14689469555545875,0.067514044573864,0.013414776861544972,0.03567169332963442,0.015014013548488773,0.009847983870181347],\"xaxis\":\"x\",\"y\":[-0.31356645149504314,-0.43117178365198244,-0.1400824276783377,-0.24311048620507486,-0.1405612297103665,-0.09434288097735201],\"yaxis\":\"y\",\"type\":\"scatter\"},{\"hovertemplate\":\"<b>%{hovertext}</b><br><br>sector=Outros<br>risk=%{x}<br>discount=%{y}<br>current_price=%{marker.size}<extra></extra>\",\"hovertext\":[\"MBRF11.SA\",\"HCTR11.SA\",\"FAED11.SA\",\"RBRP11.SA\",\"VGIP11.SA\",\"BLMC11.SA\",\"XPIN11.SA\",\"FCFL11.SA\",\"CXCE11B.SA\",\"RBED11.SA\",\"RBVA11.SA\",\"CXAG11.SA\",\"RBVO11.SA\",\"HUSC11.SA\",\"XPCI11.SA\",\"GESE11B.SA\",\"BBRC11.SA\",\"XPPR11.SA\",\"BNFS11.SA\",\"TRXF11.SA\",\"XPSF11.SA\",\"QAGR11.SA\"],\"legendgroup\":\"Outros\",\"marker\":{\"color\":\"#19d3f3\",\"size\":[742.3104858398438,115.4041976928711,209.01756286621094,72.64321899414062,90.85835266113281,86.8917007446289,85.8572006225586,101.6529312133789,41.67375183105469,117.10978698730469,90.84784698486328,72.11663818359375,10.210342407226562,118.0600357055664,87.76007080078125,1399.906982421875,96.55886840820312,62.93006896972656,112.17548370361328,93.86267852783203,73.0198974609375,46.87677764892578],\"sizemode\":\"area\",\"sizeref\":5.21302978515625,\"symbol\":\"circle\"},\"mode\":\"markers\",\"name\":\"Outros\",\"orientation\":\"v\",\"showlegend\":true,\"x\":[0.021874222127005894,0.01254749563362831,0.027154272211669245,0.015619766693740806,0.006976866935830548,0.01335079549525767,0.009463461870569095,0.01353134005498876,0.011685968969740942,0.009883809732405234,0.006742229056403882,0.007796237467232587,0.025271626989724454,0.03272081377735471,0.009231963097500179,0.0017708138972889055,0.009182174001412021,0.01587513794882234,0.008767551643436521,0.00560973755063219,0.06004434053058639,0.0049714658053480075],\"xaxis\":\"x\",\"y\":[-0.3040590159166505,-0.17456318405447432,-0.2127720098209574,-0.2164580990100859,-0.06647627597398717,-0.08389123016811428,-0.16908792345039012,-0.12722122487245197,-0.128993156424076,-0.12721197768703674,-0.10244509582460831,-0.09909097171483039,-0.17825505068275221,-0.21671016803667356,-0.08640693423383199,-0.05321378284339565,-0.10787969850059967,-0.3865047227527027,-0.09668654283148737,-0.12419533215929834,-0.900954658597889,-0.0771581069280697],\"yaxis\":\"y\",\"type\":\"scatter\"},{\"hovertemplate\":\"<b>%{hovertext}</b><br><br>sector=Log\\u00edstica<br>risk=%{x}<br>discount=%{y}<br>current_price=%{marker.size}<extra></extra>\",\"hovertext\":[\"RBRL11.SA\",\"BTLG11.SA\",\"ALZR11.SA\",\"CXTL11.SA\",\"VILG11.SA\",\"LGCP11.SA\",\"BRCO11.SA\",\"SDIL11.SA\",\"HLOG11.SA\",\"VTLT11.SA\",\"XPLG11.SA\",\"LVBI11.SA\",\"FIIP11B.SA\",\"EURO11.SA\",\"HGLG11.SA\",\"GGRC11.SA\"],\"legendgroup\":\"Log\\u00edstica\",\"marker\":{\"color\":\"#FF6692\",\"size\":[79.19114685058594,99.98023986816406,103.14373779296875,281.9618835449219,91.87154388427734,78.86429595947266,95.63943481445312,82.07303619384766,88.55107879638672,87.92137908935547,93.55157470703125,99.90763092041016,158.42723083496094,189.7798614501953,156.78179931640625,106.93326568603516],\"sizemode\":\"area\",\"sizeref\":5.21302978515625,\"symbol\":\"circle\"},\"mode\":\"markers\",\"name\":\"Log\\u00edstica\",\"orientation\":\"v\",\"showlegend\":true,\"x\":[0.010526076912943027,0.0059275645064578554,0.006863618308244114,0.03362322176553158,0.010067573043279059,0.008913151095353037,0.009082213685368646,0.008830962255499057,0.008157693314372718,0.011955006551705753,0.009193015159474177,0.010469748641881034,0.015338155694691527,0.019759769577624802,0.007269435155653221,0.009079103910380621],\"xaxis\":\"x\",\"y\":[-0.12359201074894836,-0.06329550429827974,-0.10947987464611564,-0.2876348791928932,-0.14311219166656053,-0.12961470272104073,-0.11296341619300922,-0.1616874251797389,-0.10871332319097027,-0.11969141396206597,-0.1604354375160572,-0.11376423625576788,-0.08872047302912175,-0.1715901693222955,-0.09125045700823851,-0.17672125744182843],\"yaxis\":\"y\",\"type\":\"scatter\"},{\"hovertemplate\":\"<b>%{hovertext}</b><br><br>sector=Hotel<br>risk=%{x}<br>discount=%{y}<br>current_price=%{marker.size}<extra></extra>\",\"hovertext\":[\"MGHT11.SA\",\"XPHT11.SA\"],\"legendgroup\":\"Hotel\",\"marker\":{\"color\":\"#B6E880\",\"size\":[78.31388854980469,89.38915252685547],\"sizemode\":\"area\",\"sizeref\":5.21302978515625,\"symbol\":\"circle\"},\"mode\":\"markers\",\"name\":\"Hotel\",\"orientation\":\"v\",\"showlegend\":true,\"x\":[0.01835186594541527,0.014716958556285966],\"xaxis\":\"x\",\"y\":[-0.26362406467293614,-0.2091069245162467],\"yaxis\":\"y\",\"type\":\"scatter\"},{\"hovertemplate\":\"<b>%{hovertext}</b><br><br>sector=Hospital<br>risk=%{x}<br>discount=%{y}<br>current_price=%{marker.size}<extra></extra>\",\"hovertext\":[\"NVHO11.SA\"],\"legendgroup\":\"Hospital\",\"marker\":{\"color\":\"#FF97FF\",\"size\":[10.648580551147461],\"sizemode\":\"area\",\"sizeref\":5.21302978515625,\"symbol\":\"circle\"},\"mode\":\"markers\",\"name\":\"Hospital\",\"orientation\":\"v\",\"showlegend\":true,\"x\":[0.026246423232852104],\"xaxis\":\"x\",\"y\":[-0.12947826249489883],\"yaxis\":\"y\",\"type\":\"scatter\"},{\"hovertemplate\":\"<b>%{hovertext}</b><br><br>sector=Renda<br>risk=%{x}<br>discount=%{y}<br>current_price=%{marker.size}<extra></extra>\",\"hovertext\":[\"KCRE11.SA\"],\"legendgroup\":\"Renda\",\"marker\":{\"color\":\"#FECB52\",\"size\":[94.87786102294922],\"sizemode\":\"area\",\"sizeref\":5.21302978515625,\"symbol\":\"circle\"},\"mode\":\"markers\",\"name\":\"Renda\",\"orientation\":\"v\",\"showlegend\":true,\"x\":[0.007971670338167236],\"xaxis\":\"x\",\"y\":[-0.04534953341121073],\"yaxis\":\"y\",\"type\":\"scatter\"}],                        {\"template\":{\"data\":{\"histogram2dcontour\":[{\"type\":\"histogram2dcontour\",\"colorbar\":{\"outlinewidth\":0,\"ticks\":\"\"},\"colorscale\":[[0.0,\"#0d0887\"],[0.1111111111111111,\"#46039f\"],[0.2222222222222222,\"#7201a8\"],[0.3333333333333333,\"#9c179e\"],[0.4444444444444444,\"#bd3786\"],[0.5555555555555556,\"#d8576b\"],[0.6666666666666666,\"#ed7953\"],[0.7777777777777778,\"#fb9f3a\"],[0.8888888888888888,\"#fdca26\"],[1.0,\"#f0f921\"]]}],\"choropleth\":[{\"type\":\"choropleth\",\"colorbar\":{\"outlinewidth\":0,\"ticks\":\"\"}}],\"histogram2d\":[{\"type\":\"histogram2d\",\"colorbar\":{\"outlinewidth\":0,\"ticks\":\"\"},\"colorscale\":[[0.0,\"#0d0887\"],[0.1111111111111111,\"#46039f\"],[0.2222222222222222,\"#7201a8\"],[0.3333333333333333,\"#9c179e\"],[0.4444444444444444,\"#bd3786\"],[0.5555555555555556,\"#d8576b\"],[0.6666666666666666,\"#ed7953\"],[0.7777777777777778,\"#fb9f3a\"],[0.8888888888888888,\"#fdca26\"],[1.0,\"#f0f921\"]]}],\"heatmap\":[{\"type\":\"heatmap\",\"colorbar\":{\"outlinewidth\":0,\"ticks\":\"\"},\"colorscale\":[[0.0,\"#0d0887\"],[0.1111111111111111,\"#46039f\"],[0.2222222222222222,\"#7201a8\"],[0.3333333333333333,\"#9c179e\"],[0.4444444444444444,\"#bd3786\"],[0.5555555555555556,\"#d8576b\"],[0.6666666666666666,\"#ed7953\"],[0.7777777777777778,\"#fb9f3a\"],[0.8888888888888888,\"#fdca26\"],[1.0,\"#f0f921\"]]}],\"heatmapgl\":[{\"type\":\"heatmapgl\",\"colorbar\":{\"outlinewidth\":0,\"ticks\":\"\"},\"colorscale\":[[0.0,\"#0d0887\"],[0.1111111111111111,\"#46039f\"],[0.2222222222222222,\"#7201a8\"],[0.3333333333333333,\"#9c179e\"],[0.4444444444444444,\"#bd3786\"],[0.5555555555555556,\"#d8576b\"],[0.6666666666666666,\"#ed7953\"],[0.7777777777777778,\"#fb9f3a\"],[0.8888888888888888,\"#fdca26\"],[1.0,\"#f0f921\"]]}],\"contourcarpet\":[{\"type\":\"contourcarpet\",\"colorbar\":{\"outlinewidth\":0,\"ticks\":\"\"}}],\"contour\":[{\"type\":\"contour\",\"colorbar\":{\"outlinewidth\":0,\"ticks\":\"\"},\"colorscale\":[[0.0,\"#0d0887\"],[0.1111111111111111,\"#46039f\"],[0.2222222222222222,\"#7201a8\"],[0.3333333333333333,\"#9c179e\"],[0.4444444444444444,\"#bd3786\"],[0.5555555555555556,\"#d8576b\"],[0.6666666666666666,\"#ed7953\"],[0.7777777777777778,\"#fb9f3a\"],[0.8888888888888888,\"#fdca26\"],[1.0,\"#f0f921\"]]}],\"surface\":[{\"type\":\"surface\",\"colorbar\":{\"outlinewidth\":0,\"ticks\":\"\"},\"colorscale\":[[0.0,\"#0d0887\"],[0.1111111111111111,\"#46039f\"],[0.2222222222222222,\"#7201a8\"],[0.3333333333333333,\"#9c179e\"],[0.4444444444444444,\"#bd3786\"],[0.5555555555555556,\"#d8576b\"],[0.6666666666666666,\"#ed7953\"],[0.7777777777777778,\"#fb9f3a\"],[0.8888888888888888,\"#fdca26\"],[1.0,\"#f0f921\"]]}],\"mesh3d\":[{\"type\":\"mesh3d\",\"colorbar\":{\"outlinewidth\":0,\"ticks\":\"\"}}],\"scatter\":[{\"fillpattern\":{\"fillmode\":\"overlay\",\"size\":10,\"solidity\":0.2},\"type\":\"scatter\"}],\"parcoords\":[{\"type\":\"parcoords\",\"line\":{\"colorbar\":{\"outlinewidth\":0,\"ticks\":\"\"}}}],\"scatterpolargl\":[{\"type\":\"scatterpolargl\",\"marker\":{\"colorbar\":{\"outlinewidth\":0,\"ticks\":\"\"}}}],\"bar\":[{\"error_x\":{\"color\":\"#2a3f5f\"},\"error_y\":{\"color\":\"#2a3f5f\"},\"marker\":{\"line\":{\"color\":\"#E5ECF6\",\"width\":0.5},\"pattern\":{\"fillmode\":\"overlay\",\"size\":10,\"solidity\":0.2}},\"type\":\"bar\"}],\"scattergeo\":[{\"type\":\"scattergeo\",\"marker\":{\"colorbar\":{\"outlinewidth\":0,\"ticks\":\"\"}}}],\"scatterpolar\":[{\"type\":\"scatterpolar\",\"marker\":{\"colorbar\":{\"outlinewidth\":0,\"ticks\":\"\"}}}],\"histogram\":[{\"marker\":{\"pattern\":{\"fillmode\":\"overlay\",\"size\":10,\"solidity\":0.2}},\"type\":\"histogram\"}],\"scattergl\":[{\"type\":\"scattergl\",\"marker\":{\"colorbar\":{\"outlinewidth\":0,\"ticks\":\"\"}}}],\"scatter3d\":[{\"type\":\"scatter3d\",\"line\":{\"colorbar\":{\"outlinewidth\":0,\"ticks\":\"\"}},\"marker\":{\"colorbar\":{\"outlinewidth\":0,\"ticks\":\"\"}}}],\"scattermapbox\":[{\"type\":\"scattermapbox\",\"marker\":{\"colorbar\":{\"outlinewidth\":0,\"ticks\":\"\"}}}],\"scatterternary\":[{\"type\":\"scatterternary\",\"marker\":{\"colorbar\":{\"outlinewidth\":0,\"ticks\":\"\"}}}],\"scattercarpet\":[{\"type\":\"scattercarpet\",\"marker\":{\"colorbar\":{\"outlinewidth\":0,\"ticks\":\"\"}}}],\"carpet\":[{\"aaxis\":{\"endlinecolor\":\"#2a3f5f\",\"gridcolor\":\"white\",\"linecolor\":\"white\",\"minorgridcolor\":\"white\",\"startlinecolor\":\"#2a3f5f\"},\"baxis\":{\"endlinecolor\":\"#2a3f5f\",\"gridcolor\":\"white\",\"linecolor\":\"white\",\"minorgridcolor\":\"white\",\"startlinecolor\":\"#2a3f5f\"},\"type\":\"carpet\"}],\"table\":[{\"cells\":{\"fill\":{\"color\":\"#EBF0F8\"},\"line\":{\"color\":\"white\"}},\"header\":{\"fill\":{\"color\":\"#C8D4E3\"},\"line\":{\"color\":\"white\"}},\"type\":\"table\"}],\"barpolar\":[{\"marker\":{\"line\":{\"color\":\"#E5ECF6\",\"width\":0.5},\"pattern\":{\"fillmode\":\"overlay\",\"size\":10,\"solidity\":0.2}},\"type\":\"barpolar\"}],\"pie\":[{\"automargin\":true,\"type\":\"pie\"}]},\"layout\":{\"autotypenumbers\":\"strict\",\"colorway\":[\"#636efa\",\"#EF553B\",\"#00cc96\",\"#ab63fa\",\"#FFA15A\",\"#19d3f3\",\"#FF6692\",\"#B6E880\",\"#FF97FF\",\"#FECB52\"],\"font\":{\"color\":\"#2a3f5f\"},\"hovermode\":\"closest\",\"hoverlabel\":{\"align\":\"left\"},\"paper_bgcolor\":\"white\",\"plot_bgcolor\":\"#E5ECF6\",\"polar\":{\"bgcolor\":\"#E5ECF6\",\"angularaxis\":{\"gridcolor\":\"white\",\"linecolor\":\"white\",\"ticks\":\"\"},\"radialaxis\":{\"gridcolor\":\"white\",\"linecolor\":\"white\",\"ticks\":\"\"}},\"ternary\":{\"bgcolor\":\"#E5ECF6\",\"aaxis\":{\"gridcolor\":\"white\",\"linecolor\":\"white\",\"ticks\":\"\"},\"baxis\":{\"gridcolor\":\"white\",\"linecolor\":\"white\",\"ticks\":\"\"},\"caxis\":{\"gridcolor\":\"white\",\"linecolor\":\"white\",\"ticks\":\"\"}},\"coloraxis\":{\"colorbar\":{\"outlinewidth\":0,\"ticks\":\"\"}},\"colorscale\":{\"sequential\":[[0.0,\"#0d0887\"],[0.1111111111111111,\"#46039f\"],[0.2222222222222222,\"#7201a8\"],[0.3333333333333333,\"#9c179e\"],[0.4444444444444444,\"#bd3786\"],[0.5555555555555556,\"#d8576b\"],[0.6666666666666666,\"#ed7953\"],[0.7777777777777778,\"#fb9f3a\"],[0.8888888888888888,\"#fdca26\"],[1.0,\"#f0f921\"]],\"sequentialminus\":[[0.0,\"#0d0887\"],[0.1111111111111111,\"#46039f\"],[0.2222222222222222,\"#7201a8\"],[0.3333333333333333,\"#9c179e\"],[0.4444444444444444,\"#bd3786\"],[0.5555555555555556,\"#d8576b\"],[0.6666666666666666,\"#ed7953\"],[0.7777777777777778,\"#fb9f3a\"],[0.8888888888888888,\"#fdca26\"],[1.0,\"#f0f921\"]],\"diverging\":[[0,\"#8e0152\"],[0.1,\"#c51b7d\"],[0.2,\"#de77ae\"],[0.3,\"#f1b6da\"],[0.4,\"#fde0ef\"],[0.5,\"#f7f7f7\"],[0.6,\"#e6f5d0\"],[0.7,\"#b8e186\"],[0.8,\"#7fbc41\"],[0.9,\"#4d9221\"],[1,\"#276419\"]]},\"xaxis\":{\"gridcolor\":\"white\",\"linecolor\":\"white\",\"ticks\":\"\",\"title\":{\"standoff\":15},\"zerolinecolor\":\"white\",\"automargin\":true,\"zerolinewidth\":2},\"yaxis\":{\"gridcolor\":\"white\",\"linecolor\":\"white\",\"ticks\":\"\",\"title\":{\"standoff\":15},\"zerolinecolor\":\"white\",\"automargin\":true,\"zerolinewidth\":2},\"scene\":{\"xaxis\":{\"backgroundcolor\":\"#E5ECF6\",\"gridcolor\":\"white\",\"linecolor\":\"white\",\"showbackground\":true,\"ticks\":\"\",\"zerolinecolor\":\"white\",\"gridwidth\":2},\"yaxis\":{\"backgroundcolor\":\"#E5ECF6\",\"gridcolor\":\"white\",\"linecolor\":\"white\",\"showbackground\":true,\"ticks\":\"\",\"zerolinecolor\":\"white\",\"gridwidth\":2},\"zaxis\":{\"backgroundcolor\":\"#E5ECF6\",\"gridcolor\":\"white\",\"linecolor\":\"white\",\"showbackground\":true,\"ticks\":\"\",\"zerolinecolor\":\"white\",\"gridwidth\":2}},\"shapedefaults\":{\"line\":{\"color\":\"#2a3f5f\"}},\"annotationdefaults\":{\"arrowcolor\":\"#2a3f5f\",\"arrowhead\":0,\"arrowwidth\":1},\"geo\":{\"bgcolor\":\"white\",\"landcolor\":\"#E5ECF6\",\"subunitcolor\":\"white\",\"showland\":true,\"showlakes\":true,\"lakecolor\":\"white\"},\"title\":{\"x\":0.05},\"mapbox\":{\"style\":\"light\"}}},\"xaxis\":{\"anchor\":\"y\",\"domain\":[0.0,1.0],\"title\":{\"text\":\"risk\"},\"type\":\"log\"},\"yaxis\":{\"anchor\":\"x\",\"domain\":[0.0,1.0],\"title\":{\"text\":\"discount\"}},\"legend\":{\"title\":{\"text\":\"sector\"},\"tracegroupgap\":0,\"itemsizing\":\"constant\"},\"margin\":{\"t\":60}},                        {\"responsive\": true}                    ).then(function(){\n",
       "                            \n",
       "var gd = document.getElementById('6aa72059-a27c-4b95-886a-b55e13b17d08');\n",
       "var x = new MutationObserver(function (mutations, observer) {{\n",
       "        var display = window.getComputedStyle(gd).display;\n",
       "        if (!display || display === 'none') {{\n",
       "            console.log([gd, 'removed!']);\n",
       "            Plotly.purge(gd);\n",
       "            observer.disconnect();\n",
       "        }}\n",
       "}});\n",
       "\n",
       "// Listen for the removal of the full notebook cells\n",
       "var notebookContainer = gd.closest('#notebook-container');\n",
       "if (notebookContainer) {{\n",
       "    x.observe(notebookContainer, {childList: true});\n",
       "}}\n",
       "\n",
       "// Listen for the clearing of the current output cell\n",
       "var outputEl = gd.closest('.output');\n",
       "if (outputEl) {{\n",
       "    x.observe(outputEl, {childList: true});\n",
       "}}\n",
       "\n",
       "                        })                };                });            </script>        </div>"
      ]
     },
     "metadata": {},
     "output_type": "display_data"
    }
   ],
   "source": [
    "import plotly.express as px\n",
    "stock_info_df = stock_info_df.dropna()\n",
    "\n",
    "fig = px.scatter(stock_info_df, x = \"risk\", y = \"discount\", size = \"current_price\", color = \"sector\", hover_name = \"ticker\", log_x = True)\n",
    "fig.show()"
   ]
  }
 ],
 "metadata": {
  "kernelspec": {
   "display_name": "Python 3 (ipykernel)",
   "language": "python",
   "name": "python3"
  },
  "language_info": {
   "codemirror_mode": {
    "name": "ipython",
    "version": 3
   },
   "file_extension": ".py",
   "mimetype": "text/x-python",
   "name": "python",
   "nbconvert_exporter": "python",
   "pygments_lexer": "ipython3",
   "version": "3.9.7"
  }
 },
 "nbformat": 4,
 "nbformat_minor": 5
}
